{
 "cells": [
  {
   "cell_type": "markdown",
   "metadata": {},
   "source": [
    "# Hierarchical matrices - H matrices"
   ]
  },
  {
   "cell_type": "code",
   "execution_count": 43,
   "metadata": {},
   "outputs": [],
   "source": [
    "using Plots\n",
    "nnos=40 # tem que ser par\n",
    "NOS_GEO=zeros(nnos,2)\n",
    "ELEM=zeros(Int64,nnos-2,2)\n",
    "i1=1:Int64(nnos/2)-1\n",
    "i2=Int64(nnos/2):nnos-2\n",
    "b1=1:Int64(nnos/2)-1\n",
    "b2=Int64(nnos/2):nnos-2\n",
    "ELEM[i2,1]=i2.+1\n",
    "ELEM[i1,1]=i1\n",
    "ELEM[i2,2]=i2.+2\n",
    "ELEM[i1,2]=i1.+1\n",
    "NOS_GEO[1:nnos,1]=range(0.,length=nnos,stop=2.)\n",
    "NOS_GEO[1:nnos,2]=2. .-range(0.,length=nnos,stop=2.)\n",
    "#NOS_GEO[1:nnos,2].=2.\n",
    "NOS_GEO[Int64(nnos/2)+1:nnos,2]=20. .*ones(Int64(nnos/2));"
   ]
  },
  {
   "cell_type": "code",
   "execution_count": 44,
   "metadata": {},
   "outputs": [
    {
     "data": {
      "image/png": "[encoded data removed]"
     },
     "execution_count": 44,
     "metadata": {},
     "output_type": "execute_result"
    }
   ],
   "source": [
    "pyplot()\n",
    "plot(NOS_GEO[1:Int64(nnos/2),1],NOS_GEO[1:Int64(nnos/2),2],color=\"blue\",seriestype=:scatter,label=\"Source points\",\n",
    "    marker=(2,2.0,:o))\n",
    "plot!(NOS_GEO[Int64(nnos/2)+1:nnos,1],NOS_GEO[Int64(nnos/2)+1:nnos,2],color=\"red\",label=\"Elements\",\n",
    "    marker=(4,4.0,:s),legend=:bottomright)"
   ]
  },
  {
   "cell_type": "code",
   "execution_count": 45,
   "metadata": {},
   "outputs": [
    {
     "data": {
      "text/plain": [
       "criapontosinterp (generic function with 1 method)"
      ]
     },
     "execution_count": 45,
     "metadata": {},
     "output_type": "execute_result"
    }
   ],
   "source": [
    "function criapontosinterp(n)\n",
    "    x= cos.((2. .*(1:n) .-1).*pi./2. ./n)\n",
    "end"
   ]
  },
  {
   "cell_type": "code",
   "execution_count": 46,
   "metadata": {},
   "outputs": [
    {
     "data": {
      "text/plain": [
       "calc_fforma (generic function with 1 method)"
      ]
     },
     "execution_count": 46,
     "metadata": {},
     "output_type": "execute_result"
    }
   ],
   "source": [
    "function calc_fforma(qsi)\n",
    "  # Calcula as funções de forma lineares contínuas N1 e N2\n",
    "  N1=1. /2. .*(1. .-qsi); # Função de forma N1 => linear contínua\n",
    "  N2=1. /2. .*(1. .+qsi); # Função de forma N2 => linear contínua\n",
    "  return N1,N2\n",
    "end"
   ]
  },
  {
   "cell_type": "code",
   "execution_count": 47,
   "metadata": {},
   "outputs": [
    {
     "data": {
      "text/plain": [
       "lagrange (generic function with 2 methods)"
      ]
     },
     "execution_count": 47,
     "metadata": {},
     "output_type": "execute_result"
    }
   ],
   "source": [
    "function lagrange(pg,x,n)\n",
    "    ni = length(pg);\n",
    "    L = ones(ni,n);\n",
    "    for j = 1:n\n",
    "        for i = 1:n\n",
    "            if (i != j)\n",
    "                L[:,j] = L[:,j].*(pg .- x[i])/(x[j]-x[i]);\n",
    "            end\n",
    "        end\n",
    "    end\n",
    "    return L\n",
    "end\n",
    "\n",
    "function lagrange(pg,x1,n1,x2,n2)\n",
    "    l1=lagrange(pg[:,1],x1,n1)\n",
    "    l2=lagrange(pg[:,2],x2,n2)\n",
    "    ni=size(pg,1)\n",
    "    L=zeros(ni,n1*n2)\n",
    "    for i=1:ni\n",
    "        L[i,:]=(l1[i,:]*l2[i,:]')[:]\n",
    "    end\n",
    "    L\n",
    "end"
   ]
  },
  {
   "cell_type": "code",
   "execution_count": 48,
   "metadata": {},
   "outputs": [
    {
     "data": {
      "text/plain": [
       "Gauss_Legendre (generic function with 1 method)"
      ]
     },
     "execution_count": 48,
     "metadata": {},
     "output_type": "execute_result"
    }
   ],
   "source": [
    "function Gauss_Legendre(x1,x2,n)\n",
    "\n",
    "x = zeros(n);\n",
    "w = zeros(n);\n",
    "pp=0; # inicializando variável pp\n",
    "\n",
    "eps=3e-14;\n",
    "m=round(Int,(n+1)/2);\n",
    "xm=.5*(x2+x1);\n",
    "xl=.5*(x2-x1);\n",
    "for i=1:m\n",
    "    z=cos(pi*(i-.25)/(n+.5));\n",
    "    while 1==1\n",
    "        p1=1.;\n",
    "        p2=0.;\n",
    "        for j=1:n\n",
    "            p3=p2;\n",
    "            p2=p1;\n",
    "            p1=((2*j-1)*z*p2-(j-1)*p3)/j;\n",
    "        end\n",
    "        pp=n*(z*p1-p2)/(z*z-1);\n",
    "        z1=z;\n",
    "        z=z1-p1/pp;\n",
    "        if(abs(z-z1)<eps)\n",
    "            break\n",
    "        end\n",
    "    end\n",
    "    x[i]=xm-xl*z;\n",
    "    x[n+1-i]=xm+xl*z;\n",
    "    w[i]=2*xl/((1-z*z)*pp*pp);\n",
    "    w[n+1-i]=w[i];\n",
    "end\n",
    "    \n",
    "return x,w\n",
    "end"
   ]
  },
  {
   "cell_type": "code",
   "execution_count": 49,
   "metadata": {},
   "outputs": [
    {
     "data": {
      "text/plain": [
       "([-0.861136, -0.339981, 0.339981, 0.861136], [0.347855, 0.652145, 0.652145, 0.347855])"
      ]
     },
     "execution_count": 49,
     "metadata": {},
     "output_type": "execute_result"
    }
   ],
   "source": [
    "xmax=zeros(1,2)\n",
    "xmin=zeros(1,2)\n",
    "xmax[1]=maximum(NOS_GEO[b1,1])\n",
    "xmin[1]=minimum(NOS_GEO[b1,1])\n",
    "xmax[2]=maximum(NOS_GEO[b1,2])\n",
    "xmin[2]=minimum(NOS_GEO[b1,2])\n",
    "xs=criapontosinterp(ninterp)\n",
    "xint=zeros(ninterp*ninterp,2)\n",
    "n1,n2=calc_fforma(xs)\n",
    "xks=n1 .*xmin .+ n2 .*xmax\n",
    "npg=4\n",
    "xi,w=Gauss_Legendre(-1,1,npg)\n"
   ]
  },
  {
   "cell_type": "code",
   "execution_count": 50,
   "metadata": {},
   "outputs": [
    {
     "data": {
      "text/plain": [
       "19×4 Array{Float64,2}:\n",
       " -0.25       1.45711      0.0428932    -0.25     \n",
       " -0.145062   1.2736       0.0165224    -0.145062 \n",
       " -0.0524691  1.10244      0.00249719   -0.0524691\n",
       "  0.0277778  0.943627     0.000817701   0.0277778\n",
       "  0.095679   0.797158     0.0114839     0.095679 \n",
       "  0.151235   0.663035     0.0344958     0.151235 \n",
       "  0.194444   0.541258     0.0698533     0.194444 \n",
       "  0.225309   0.431826     0.117557      0.225309 \n",
       "  0.243827   0.33474      0.177605      0.243827 \n",
       "  0.25       0.25         0.25          0.25     \n",
       "  0.243827   0.177605     0.33474       0.243827 \n",
       "  0.225309   0.117557     0.431826      0.225309 \n",
       "  0.194444   0.0698533    0.541258      0.194444 \n",
       "  0.151235   0.0344958    0.663035      0.151235 \n",
       "  0.095679   0.0114839    0.797158      0.095679 \n",
       "  0.0277778  0.000817701  0.943627      0.0277778\n",
       " -0.0524691  0.00249719   1.10244      -0.0524691\n",
       " -0.145062   0.0165224    1.2736       -0.145062 \n",
       " -0.25       0.0428932    1.45711      -0.25     "
      ]
     },
     "execution_count": 50,
     "metadata": {},
     "output_type": "execute_result"
    }
   ],
   "source": [
    "ninterp=2\n",
    "ϵ=1e-6\n",
    "GG = zeros(ninterp*ninterp,length(b2))      # Dimensiona matriz G\n",
    "HH = zeros(ninterp*ninterp,length(b2))      # Dimensiona matriz H\n",
    "xmax=zeros(1,2)\n",
    "xmin=zeros(1,2)\n",
    "# (xmin[1],xmin[2]),(xmax[1],xmax[2]) => bounding box\n",
    "xmax[1]=maximum(NOS_GEO[b1,1])\n",
    "xmin[1]=minimum(NOS_GEO[b1,1])\n",
    "xmax[2]=maximum(NOS_GEO[b1,2])\n",
    "xmin[2]=minimum(NOS_GEO[b1,2])\n",
    "xs=criapontosinterp(ninterp)\n",
    "xint=zeros(ninterp*ninterp,2)\n",
    "n1,n2=calc_fforma(xs)\n",
    "xks=n1 .*xmin .+ n2 .*xmax\n",
    "k=1\n",
    "ci=0\n",
    "npg=4\n",
    "xi,w=Gauss_Legendre(-1,1,npg)\n",
    "for i2 =1:ninterp # Laco sobre os pontos fontes\n",
    "    for i1 =1:ninterp # Laco sobre os pontos fontes\n",
    "        ci+=1\n",
    "        xd=xks[i1,1]; # Coordenada x do ponto fonte\n",
    "        yd=xks[i2,2]; # Coordenada y do ponto fonte\n",
    "        xint[ci,:]=[xd yd]\n",
    "        cj=0       \n",
    "        for j in b2 # Laco sobre os elementos\n",
    "            cj+=1\n",
    "            noi::Int64=ELEM[j,1]; # Ponto inicial do elemento\n",
    "            nof::Int64=ELEM[j,2]; # Ponto final do elemento\n",
    "            x1=NOS_GEO[noi,1]; # Coordenada x do ponto inicial do elemento\n",
    "            x2=NOS_GEO[nof,1]; # Coordenada x do ponto final do elemento\n",
    "            y1=NOS_GEO[noi,2]; # Coordenada y do ponto inicial do elemento\n",
    "            y2=NOS_GEO[nof,2];  # Coordenada y do ponto final do elemento\n",
    "            L=sqrt((x2-x1)^2+(y2-y1)^2)\n",
    "            sx=(x2-x1)/L\n",
    "            sy=(y2-y1)/L\n",
    "            nx=sy\n",
    "            ny=-sx\n",
    "            g=0\n",
    "            h=0\n",
    "            for kk =1:npg\n",
    "                n1,n2=calc_fforma(xi[kk])\n",
    "                x=n1*x1+n2*x2\n",
    "                y=n1*y1+n2*y2\n",
    "                rx=x-xd\n",
    "                ry=y-yd\n",
    "                r=sqrt(rx^2+ry^2)\n",
    "                rdx=rx/r\n",
    "                rdy=ry/r\n",
    "                nr=nx*rdx+ny*rdy\n",
    "                Tast=-1/(2*pi)*log(r)\n",
    "                qast=nr/(2*pi*r)\n",
    "                g=g+Tast*L/2*w[kk]\n",
    "                h=h+qast*L/2*w[kk]\n",
    "            end\n",
    "            GG[ci,cj] = g\n",
    "            HH[ci,cj] = h\n",
    "        end\n",
    "    end\n",
    "end\n",
    "if(abs(xmax[1]-xmin[1])<ϵ)\n",
    "    fontes=(2. .*(NOS_GEO[b1,2] .-xmin[2])./(xmax[2]-xmin[2]).-1);\n",
    "    LL=lagrange(fontes,xs,ninterp);\n",
    "    L=[LL LL]./2;\n",
    "elseif(abs(xmax[2]-xmin[2])<ϵ)\n",
    "    fontes=(2. .*(NOS_GEO[b1,1] .-xmin[1])./(xmax[1]-xmin[1]).-1);\n",
    "    LL=lagrange(fontes,xs,ninterp);\n",
    "    L=[LL LL]./2;\n",
    "else\n",
    "    fontes=[(2. .*(NOS_GEO[b1,1] .- xmin[1]) ./(xmax[1]-xmin[1]).-1) (2. .*(NOS_GEO[b1,2] .-xmin[2])./(xmax[2]-xmin[2]).-1)];\n",
    "    L=lagrange(fontes,xs,ninterp,xs,ninterp);\n",
    "end"
   ]
  },
  {
   "cell_type": "code",
   "execution_count": 51,
   "metadata": {},
   "outputs": [],
   "source": [
    "G = zeros(length(b1),length(b2))      # Dimensiona matriz G\n",
    "H = zeros(length(b1),length(b2))      # Dimensiona matriz H\n",
    "ci=0\n",
    "npg=4\n",
    "xi,w=Gauss_Legendre(-1,1,npg)\n",
    "for i  in b1 # Laco sobre os pontos fontes\n",
    "        ci+=1\n",
    "        no1::Int64=ELEM[i,1]; # Ponto inicial do elemento\n",
    "        no2::Int64=ELEM[i,2]; # Ponto final do elemento    \n",
    "        x1=NOS_GEO[no1,1]; # Coordenada x do ponto fonte\n",
    "        y1=NOS_GEO[no1,2]; # Coordenada y do ponto fonte\n",
    "        x2=NOS_GEO[no2,1]; # Coordenada x do ponto fonte\n",
    "        y2=NOS_GEO[no2,2]; # Coordenada y do ponto fonte\n",
    "        xd=(x1+x2)/2\n",
    "        yd=(y1+y2)/2\n",
    "        cj=0\n",
    "        for j in b2 # Laco sobre os elementos\n",
    "            cj+=1\n",
    "            noi::Int64=ELEM[j,1]; # Ponto inicial do elemento\n",
    "            nof::Int64=ELEM[j,2]; # Ponto final do elemento\n",
    "            x1=NOS_GEO[noi,1]; # Coordenada x do ponto inicial do elemento\n",
    "            x2=NOS_GEO[nof,1]; # Coordenada x do ponto final do elemento\n",
    "            y1=NOS_GEO[noi,2]; # Coordenada y do ponto inicial do elemento\n",
    "            y2=NOS_GEO[nof,2];  # Coordenada y do ponto final do elemento\n",
    "            comp=sqrt((x2-x1)^2+(y2-y1)^2)\n",
    "            sx=(x2-x1)/comp\n",
    "            sy=(y2-y1)/comp\n",
    "            nx=sy\n",
    "            ny=-sx\n",
    "            g=0\n",
    "            h=0\n",
    "            for kk =1:npg\n",
    "                n1,n2=calc_fforma(xi[kk])\n",
    "                x=n1*x1+n2*x2\n",
    "                y=n1*y1+n2*y2\n",
    "                rx=x-xd\n",
    "                ry=y-yd\n",
    "                r=sqrt(rx^2+ry^2)\n",
    "                rdx=rx/r\n",
    "                rdy=ry/r\n",
    "                nr=nx*rdx+ny*rdy\n",
    "                Tast=-1/(2*pi)*log(r)\n",
    "                qast=nr/(2*pi*r)\n",
    "                g=g+Tast*comp/2*w[kk]\n",
    "                h=h+qast*comp/2*w[kk]\n",
    "            end\n",
    "        G[ci,cj] = g\n",
    "        H[ci,cj] = h\n",
    "    end\n",
    "end"
   ]
  },
  {
   "cell_type": "code",
   "execution_count": 52,
   "metadata": {},
   "outputs": [
    {
     "data": {
      "text/plain": [
       "19×19 Array{Float64,2}:\n",
       " -0.0236154  -0.0236168  -0.0236182  …  -0.0236448  -0.0236472  -0.0236497\n",
       " -0.0236373  -0.0236385  -0.0236399     -0.0236655  -0.0236678  -0.0236701\n",
       " -0.0236591  -0.0236603  -0.0236616     -0.0236861  -0.0236884  -0.0236906\n",
       " -0.023681   -0.0236821  -0.0236833     -0.0237068  -0.023709   -0.0237112\n",
       " -0.0237028  -0.0237039  -0.023705      -0.0237275  -0.0237296  -0.0237317\n",
       " -0.0237247  -0.0237257  -0.0237268  …  -0.0237483  -0.0237503  -0.0237523\n",
       " -0.0237466  -0.0237476  -0.0237485     -0.023769   -0.0237709  -0.0237729\n",
       " -0.0237685  -0.0237694  -0.0237703     -0.0237898  -0.0237917  -0.0237936\n",
       " -0.0237905  -0.0237912  -0.0237921     -0.0238106  -0.0238124  -0.0238142\n",
       " -0.0238124  -0.0238131  -0.0238139     -0.0238314  -0.0238331  -0.0238349\n",
       " -0.0238343  -0.023835   -0.0238357  …  -0.0238522  -0.0238539  -0.0238556\n",
       " -0.0238563  -0.0238568  -0.0238575     -0.0238731  -0.0238747  -0.0238763\n",
       " -0.0238782  -0.0238787  -0.0238793     -0.023894   -0.0238955  -0.023897 \n",
       " -0.0239001  -0.0239006  -0.0239011     -0.0239149  -0.0239163  -0.0239178\n",
       " -0.0239221  -0.0239225  -0.023923      -0.0239358  -0.0239371  -0.0239386\n",
       " -0.0239441  -0.0239444  -0.0239448  …  -0.0239567  -0.023958   -0.0239593\n",
       " -0.023966   -0.0239663  -0.0239666     -0.0239776  -0.0239788  -0.0239801\n",
       " -0.023988   -0.0239882  -0.0239885     -0.0239986  -0.0239997  -0.024001 \n",
       " -0.02401    -0.0240101  -0.0240103     -0.0240195  -0.0240206  -0.0240218"
      ]
     },
     "execution_count": 52,
     "metadata": {},
     "output_type": "execute_result"
    }
   ],
   "source": [
    "G"
   ]
  },
  {
   "cell_type": "code",
   "execution_count": 53,
   "metadata": {},
   "outputs": [
    {
     "data": {
      "text/plain": [
       "19×19 Array{Float64,2}:\n",
       " -0.0236045  -0.0236058  -0.0236073  …  -0.0236345  -0.0236369  -0.0236394\n",
       " -0.0236263  -0.0236276  -0.023629      -0.0236551  -0.0236575  -0.0236599\n",
       " -0.0236482  -0.0236494  -0.0236507     -0.0236758  -0.023678   -0.0236804\n",
       " -0.02367    -0.0236712  -0.0236724     -0.0236965  -0.0236987  -0.0237009\n",
       " -0.0236919  -0.023693   -0.0236942     -0.0237172  -0.0237193  -0.0237215\n",
       " -0.0237138  -0.0237148  -0.0237159  …  -0.0237379  -0.0237399  -0.0237421\n",
       " -0.0237357  -0.0237367  -0.0237377     -0.0237586  -0.0237606  -0.0237626\n",
       " -0.0237576  -0.0237585  -0.0237594     -0.0237794  -0.0237813  -0.0237833\n",
       " -0.0237795  -0.0237803  -0.0237812     -0.0238002  -0.023802   -0.0238039\n",
       " -0.0238014  -0.0238022  -0.023803      -0.023821   -0.0238228  -0.0238246\n",
       " -0.0238233  -0.023824   -0.0238248  …  -0.0238418  -0.0238435  -0.0238452\n",
       " -0.0238453  -0.0238459  -0.0238466     -0.0238627  -0.0238643  -0.0238659\n",
       " -0.0238672  -0.0238678  -0.0238684     -0.0238835  -0.0238851  -0.0238867\n",
       " -0.0238892  -0.0238897  -0.0238902     -0.0239044  -0.0239059  -0.0239074\n",
       " -0.0239111  -0.0239115  -0.023912      -0.0239253  -0.0239267  -0.0239282\n",
       " -0.0239331  -0.0239334  -0.0239339  …  -0.0239462  -0.0239476  -0.0239489\n",
       " -0.0239551  -0.0239554  -0.0239557     -0.0239672  -0.0239684  -0.0239698\n",
       " -0.023977   -0.0239773  -0.0239776     -0.0239881  -0.0239893  -0.0239906\n",
       " -0.023999   -0.0239992  -0.0239994     -0.0240091  -0.0240102  -0.0240114"
      ]
     },
     "execution_count": 53,
     "metadata": {},
     "output_type": "execute_result"
    }
   ],
   "source": [
    "L*GG"
   ]
  },
  {
   "cell_type": "code",
   "execution_count": 54,
   "metadata": {},
   "outputs": [
    {
     "data": {
      "text/plain": [
       "4×19 Array{Float64,2}:\n",
       " -0.0236525  -0.0236529  -0.0236533  …  -0.0236662  -0.0236676  -0.0236691\n",
       " -0.0236621  -0.0236633  -0.0236645     -0.0236889  -0.0236912  -0.0236934\n",
       " -0.0239411  -0.0239414  -0.0239418     -0.0239538  -0.0239551  -0.0239565\n",
       " -0.02395    -0.0239511  -0.0239523     -0.023975   -0.0239771  -0.0239792"
      ]
     },
     "execution_count": 54,
     "metadata": {},
     "output_type": "execute_result"
    }
   ],
   "source": [
    "GG"
   ]
  },
  {
   "cell_type": "code",
   "execution_count": 55,
   "metadata": {},
   "outputs": [
    {
     "data": {
      "image/png": "[encoded data removed]"
     },
     "execution_count": 55,
     "metadata": {},
     "output_type": "execute_result"
    }
   ],
   "source": [
    "plot(NOS_GEO[1:Int64(nnos/2),1],NOS_GEO[1:Int64(nnos/2),2],color=\"blue\",seriestype=:scatter,label=\"Source points\",\n",
    "    marker=(2,2.0,:o))\n",
    "plot!(xint[:,1],xint[:,2],seriestype=:scatter,color=\"red\",label=\"Interpolation points\",\n",
    "    marker=(6,6.0,:s),legend=:bottomleft)"
   ]
  },
  {
   "cell_type": "code",
   "execution_count": null,
   "metadata": {},
   "outputs": [],
   "source": []
  }
 ],
 "metadata": {
  "kernelspec": {
   "display_name": "Julia 1.0.3",
   "language": "julia",
   "name": "julia-1.0"
  },
  "language_info": {
   "file_extension": ".jl",
   "mimetype": "application/julia",
   "name": "julia",
   "version": "1.0.3"
  }
 },
 "nbformat": 4,
 "nbformat_minor": 2
}
