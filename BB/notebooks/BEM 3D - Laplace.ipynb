{
 "cells": [
  {
   "cell_type": "markdown",
   "metadata": {},
   "source": [
    "## Boundary element for potential problems (2D)"
   ]
  },
  {
   "cell_type": "markdown",
   "metadata": {},
   "source": [
    "### Constant elements"
   ]
  },
  {
   "cell_type": "markdown",
   "metadata": {},
   "source": [
    "The Laplace equation, also known as the potential equation, is an elliptic partial differential equation written as\n",
    "\n",
    "\\begin{equation}\n",
    "    \\nabla^2 T = 0\n",
    "\\end{equation}\n",
    "where $\\nabla^2 = \\partial^2 / \\partial x^2 + \\partial^2 / \\partial y^2 + \\partial^2 / \\partial z^2 $ is the Laplace operator and $T$ is an unknown system state, for heat conductivity is the temperature, for potential flows, its the velocity potential.\n",
    "\n",
    "The problem will be solved using the direct boundary element method. The boundary of the problem's domain will be discretized into triangular constant elements with physical nodes located on its centroid. The temperature and its gradient are considered to be constant throughout the element and are only calculated in the physical nodes. The boundary conditions will be applied using the collocation technique. The boundary integral equation which describes the problem is given by\n",
    "\n",
    "\\begin{equation}\n",
    "\\int_{\\Gamma} T(x') \\frac{\\partial T^{\\ast}}{\\partial n}(x,x') d\\Gamma + c (x') T(x') = \\int_{\\Gamma} \\frac{\\partial T}{\\partial n}(x') T^{\\ast}(x,x') d\\Gamma,\n",
    "\\end{equation}\n",
    "where $T$ and $\\frac{\\partial T}{\\partial n}$ are the temperature and its gradient, $n$ is the unit normal vector on the boundary $\\Gamma$ of the problem's domain $\\Omega$, $( \\Gamma = \\partial \\Omega)$. The superscript in $T^{\\ast}$ denotes the fundamental solution of $T$. The fundamental solution corresponds to a source point in an infinite domain when applied to the Laplace equation, where $x'$ is the source point, $x$ is a field point,\n",
    "\n",
    "\n",
    "\\begin{equation}\n",
    "    \\nabla^2 T^{\\ast} = \\delta(x,x').\n",
    "\\end{equation}"
   ]
  },
  {
   "cell_type": "code",
   "execution_count": 144,
   "metadata": {
    "scrolled": false
   },
   "outputs": [
    {
     "name": "stderr",
     "output_type": "stream",
     "text": [
      "WARNING: replacing module const2D\n",
      "WARNING: replacing module desclin2D\n",
      "WARNING: replacing module linear2D\n",
      "WARNING: replacing module quad2D\n",
      "WARNING: replacing module nurbs2D\n",
      "WARNING: replacing module const3D_tri\n"
     ]
    },
    {
     "data": {
      "text/plain": [
       "BEM_base (generic function with 5 methods)"
      ]
     },
     "execution_count": 144,
     "metadata": {},
     "output_type": "execute_result"
    }
   ],
   "source": [
    "include(\"../BEM_base.jl\")"
   ]
  },
  {
   "cell_type": "code",
   "execution_count": 145,
   "metadata": {
    "scrolled": false
   },
   "outputs": [],
   "source": [
    "LL = 1;\n",
    "dx = LL/3;\n",
    "dy = LL/3;\n",
    "dz = LL/3;\n",
    "# Coordenada dos nós que definem a geometria (nós geométricos)\n",
    "# NOS = [número do nó, coord. x, coord. y, coord. z];\n",
    "NOS_GEO = [ 1 0.0\t 0.0\t 0.0\n",
    "        2 1*dx\t 0.0\t 0.0\n",
    "        3 2*dx\t 0.0\t 0.0\n",
    "        4 3*dx\t 0.0\t 0.0\n",
    "        5 0.0\t 1*dy\t 0.0\n",
    "        6 1*dx\t 1*dy\t 0.0\n",
    "        7 2*dx\t 1*dy\t 0.0\n",
    "        8 3*dx\t 1*dy\t 0.0\n",
    "        9 0.0\t 2*dy\t 0.0\n",
    "       10 1*dx\t 2*dy\t 0.0\n",
    "       11 2*dx\t 2*dy\t 0.0\n",
    "       12 3*dx\t 2*dy\t 0.0\n",
    "       13 0.0\t 3*dy\t 0.0\n",
    "       14 1*dx\t 3*dy\t 0.0\n",
    "       15 2*dx\t 3*dy\t 0.0\n",
    "       16 3*dx\t 3*dy\t 0.0\n",
    "\n",
    "       17 0.0\t 0.0\t 1*dz\n",
    "       18 1*dx\t 0.0\t 1*dz\n",
    "       19 2*dx\t 0.0\t 1*dz\n",
    "       20 3*dx\t 0.0\t 1*dz\n",
    "       21 0.0\t 1*dy\t 1*dz\n",
    "       22 3*dx\t 1*dy\t 1*dz\n",
    "       23 0.0\t 2*dy\t 1*dz\n",
    "       24 3*dx\t 2*dy\t 1*dz\n",
    "       25 0.0\t 3*dy\t 1*dz\n",
    "       26 1*dx\t 3*dy\t 1*dz\n",
    "       27 2*dx\t 3*dy\t 1*dz\n",
    "       28 3*dx\t 3*dy\t 1*dz\n",
    "\n",
    "       29 0.0\t 0.0\t 2*dz\n",
    "       30 1*dx\t 0.0\t 2*dz\n",
    "       31 2*dx\t 0.0\t 2*dz\n",
    "       32 3*dx\t 0.0\t 2*dz\n",
    "       33 0.0\t 1*dy\t 2*dz\n",
    "       34 3*dx\t 1*dy\t 2*dz\n",
    "       35 0.0\t 2*dy\t 2*dz\n",
    "       36 3*dx\t 2*dy\t 2*dz\n",
    "       37 0.0\t 3*dy\t 2*dz\n",
    "       38 1*dx\t 3*dy\t 2*dz\n",
    "       39 2*dx\t 3*dy\t 2*dz\n",
    "       40 3*dx\t 3*dy\t 2*dz\n",
    "\n",
    "       41 0.0\t 0.0\t 3*dz\n",
    "       42 1*dx\t 0.0\t 3*dz\n",
    "       43 2*dx\t 0.0\t 3*dz\n",
    "       44 3*dx\t 0.0\t 3*dz\n",
    "       45 0.0\t 1*dy\t 3*dz\n",
    "       46 1*dx\t 1*dy\t 3*dz\n",
    "       47 2*dx\t 1*dy\t 3*dz\n",
    "       48 3*dx\t 1*dy\t 3*dz\n",
    "       49 0.0\t 2*dy\t 3*dz\n",
    "       50 1*dx\t 2*dy\t 3*dz\n",
    "       51 2*dx\t 2*dy\t 3*dz\n",
    "       52 3*dx\t 2*dy\t 3*dz\n",
    "       53 0.0\t 3*dy\t 3*dz\n",
    "       54 1*dx\t 3*dy\t 3*dz\n",
    "       55 2*dx\t 3*dy\t 3*dz\n",
    "       56 3*dx\t 3*dy\t 3*dz];\n",
    "\n",
    "# Matriz de conectividade (nós que definem os elementos)\n",
    "# ELEM = [número do elemento, no1, no2, no3, face]\n",
    "ELEM = [ 1     5     6     1     1\n",
    "         2     1     6     2     1\n",
    "         3     2     6     7     1\n",
    "         4     2     7     3     1\n",
    "         5     3     7     8     1\n",
    "         6     3     8     4     1\n",
    "         7     5     9    10     1\n",
    "         8     5    10     6     1\n",
    "         9     6    10    11     1\n",
    "        10     6    11     7     1\n",
    "        11     7    11    12     1\n",
    "        12     7    12     8     1\n",
    "        13     9    13    14     1\n",
    "        14     9    14    10     1\n",
    "        15    10    14    15     1\n",
    "        16    10    15    11     1\n",
    "        17    11    15    16     1\n",
    "        18    11    16    12     1\n",
    "\n",
    "        19    42    46    41     6\n",
    "        20    41    46    45     6\n",
    "        21    42    43    47     6\n",
    "        22    42    47    46     6\n",
    "        23    43    44    48     6\n",
    "        24    43    48    47     6\n",
    "        25    45    46    50     6\n",
    "        26    45    50    49     6\n",
    "        27    46    47    51     6\n",
    "        28    46    51    50     6\n",
    "        29    47    48    52     6\n",
    "        30    47    52    51     6\n",
    "        31    49    50    54     6\n",
    "        32    49    54    53     6\n",
    "        33    50    51    55     6\n",
    "        34    50    55    54     6\n",
    "        35    51    52    56     6\n",
    "        36    51    56    55     6\n",
    "\n",
    "        37     1    17    21     5\n",
    "        38     1    21     5     5\n",
    "        39     5    21    23     5\n",
    "        40     5    23     9     5\n",
    "        41     9    23    25     5\n",
    "        42     9    25    13     5\n",
    "        43    17    29    33     5\n",
    "        44    17    33    21     5\n",
    "        45    21    33    35     5\n",
    "        46    21    35    23     5\n",
    "        47    23    35    37     5\n",
    "        48    23    37    25     5\n",
    "        49    29    41    45     5\n",
    "        50    29    45    33     5\n",
    "        51    33    45    49     5\n",
    "        52    33    49    35     5\n",
    "        53    35    49    53     5\n",
    "        54    35    53    37     5\n",
    "\n",
    "        55     1     2    18     2\n",
    "        56     1    18    17     2\n",
    "        57     2     3    19     2\n",
    "        58     2    19    18     2\n",
    "        59     3     4    20     2\n",
    "        60     3    20    19     2\n",
    "        61    17    18    30     2\n",
    "        62    17    30    29     2\n",
    "        63    18    19    31     2\n",
    "        64    18    31    30     2\n",
    "        65    19    20    32     2\n",
    "        66    19    32    31     2\n",
    "        67    29    30    42     2\n",
    "        68    29    42    41     2\n",
    "        69    30    31    43     2\n",
    "        70    30    43    42     2\n",
    "        71    31    32    44     2\n",
    "        72    31    44    43     2\n",
    "\n",
    "        73     4     8    22     3\n",
    "        74     4    22    20     3\n",
    "        75     8    12    24     3\n",
    "        76     8    24    22     3\n",
    "        77    12    16    28     3\n",
    "        78    12    28    24     3\n",
    "        79    20    22    34     3\n",
    "        80    20    34    32     3\n",
    "        81    22    24    36     3\n",
    "        82    22    36    34     3\n",
    "        83    24    28    40     3\n",
    "        84    24    40    36     3\n",
    "        85    32    34    48     3\n",
    "        86    32    48    44     3\n",
    "        87    34    36    52     3\n",
    "        88    34    52    48     3\n",
    "        89    36    40    56     3\n",
    "        90    36    56    52     3\n",
    "\n",
    "        91    13    25    26     4\n",
    "        92    13    26    14     4\n",
    "        93    14    26    27     4\n",
    "        94    14    27    15     4\n",
    "        95    15    27    28     4\n",
    "        96    15    28    16     4\n",
    "        97    25    37    38     4\n",
    "        98    25    38    26     4\n",
    "        99    26    38    39     4\n",
    "       100    26    39    27     4\n",
    "       101    27    39    40     4\n",
    "       102    27    40    28     4\n",
    "       103    37    53    54     4\n",
    "       104    37    54    38     4\n",
    "       105    38    54    55     4\n",
    "       106    38    55    39     4\n",
    "       107    39    55    56     4\n",
    "       108    39    56    40     4];\n",
    "\n",
    "# Matriz de condições de contorno das faces\n",
    "# CCFace = [número da face, tipo da CDC, valor da CDC]\n",
    "# tipo da CDC = 0 => a temperatura é conhecida\n",
    "# tipo da CDC = 1 => o fluxo é conhecido\n",
    "CCFace = [1 0 0 \n",
    "          2 1 0\n",
    "          3 1 0\n",
    "          4 1 0\n",
    "          5 1 0\n",
    "          6 0 0.5];\n",
    "\n",
    "NOS = const3D_tri.mostra_geoTRI(NOS_GEO,ELEM); #Generate the physical nodes for constant elements                   "
   ]
  },
  {
   "cell_type": "code",
   "execution_count": 146,
   "metadata": {
    "scrolled": true
   },
   "outputs": [
    {
     "name": "stdout",
     "output_type": "stream",
     "text": [
      "gmres iterated maxIter (=1000) times without achieving the desired tolerance.\n"
     ]
    },
    {
     "data": {
      "text/plain": [
       "([0.0; 0.0; … ; 0.0761561; 0.0309862], [0.00710844; 0.00710843; … ; 0.0; 0.0])"
      ]
     },
     "execution_count": 146,
     "metadata": {},
     "output_type": "execute_result"
    }
   ],
   "source": [
    "Tree,block = const3D_tri.cluster(NOS[:,2:4],floor(sqrt(length(NOS))),2);\n",
    "k = 1\n",
    "npg=6\n",
    "PONTOS_dom = [1 LL/2 LL/2 LL/2]\n",
    "qsi,w = const3D_tri.Gauss_Legendre(-1,1,npg) # Generation of the points and weights\n",
    "qsi_tri,w_tri = const3D_tri.Gauss_Legendre(0,1,npg) # Generation of the points and weights\n",
    "CDC = const3D_tri.gera_CDC(ELEM,CCFace); #Monta a matriz de condicoes de contorno\n",
    "arg = [NOS, NOS_GEO, ELEM, k, CDC,qsi,w,qsi_tri,w_tri];\n",
    "A,b = const3D_tri.Hinterp_POT(Tree,block,arg)\n",
    "x = const3D_tri.gmres(vet->const3D_tri.matvec(A,vet,block,Tree),b,5,tol=1e-5,maxIter=1000,out=0) \n",
    "T,q = const3D_tri.monta_Teq_POT(CDC, x[1])\n",
    "b1 = collect(1:size(NOS,1))\n",
    "b2 = collect(1:size(ELEM,1))\n",
    "Ab,bb = const3D_tri.cal_Aeb_POT(b1,b2, arg)\n",
    "xb = bb\\Ab\n",
    "Tb,qb = const3D_tri.monta_Teq_POT(CDC, x1)"
   ]
  },
  {
   "cell_type": "code",
   "execution_count": 147,
   "metadata": {},
   "outputs": [
    {
     "name": "stdout",
     "output_type": "stream",
     "text": [
      "58\n"
     ]
    }
   ],
   "source": [
    "println(size(block,1))"
   ]
  },
  {
   "cell_type": "code",
   "execution_count": 148,
   "metadata": {},
   "outputs": [],
   "source": [
    "Ac = const3D_tri.montacheia(A, block, Tree, size(ELEM,1));"
   ]
  },
  {
   "cell_type": "code",
   "execution_count": 149,
   "metadata": {},
   "outputs": [
    {
     "data": {
      "text/plain": [
       "3.0698707290602084e6"
      ]
     },
     "execution_count": 149,
     "metadata": {},
     "output_type": "execute_result"
    }
   ],
   "source": [
    "sum(Ab - Ac)"
   ]
  },
  {
   "cell_type": "code",
   "execution_count": 150,
   "metadata": {},
   "outputs": [
    {
     "name": "stdout",
     "output_type": "stream",
     "text": [
      "erro no bloco 1 = 6862.3087081305\n",
      "erro no bloco 2 = 6940.4039855643705\n",
      "erro no bloco 8 = 41743.19358042256\n",
      "erro no bloco 13 = 61306.599991893\n",
      "erro no bloco 21 = 12150.097664150473\n",
      "erro no bloco 22 = 1.7234147514663422e6\n",
      "erro no bloco 26 = 234.9846006463016\n",
      "erro no bloco 28 = 81591.68144671441\n",
      "erro no bloco 30 = 1068.6652666918892\n",
      "erro no bloco 32 = 309.5911644915521\n",
      "erro no bloco 34 = 104435.10401348112\n",
      "erro no bloco 38 = 200.28833654447268\n",
      "erro no bloco 41 = 728030.9884113234\n",
      "erro no bloco 42 = 8134.767575706475\n",
      "erro no bloco 47 = 21442.796613978906\n",
      "erro no bloco 51 = 93978.5583153539\n"
     ]
    }
   ],
   "source": [
    "const3D_tri.erroblocos(A,Ab,block,Tree)"
   ]
  },
  {
   "cell_type": "code",
   "execution_count": 151,
   "metadata": {},
   "outputs": [
    {
     "data": {
      "text/plain": [
       "6862.3087081305"
      ]
     },
     "execution_count": 151,
     "metadata": {},
     "output_type": "execute_result"
    }
   ],
   "source": [
    "i = 1\n",
    "n=vecnorm(Ab[Tree[block[i,1]],Tree[block[i,2]]]-A[i,1]*A[i,2])"
   ]
  },
  {
   "cell_type": "code",
   "execution_count": 152,
   "metadata": {},
   "outputs": [
    {
     "data": {
      "text/plain": [
       "27×27 Array{Float64,2}:\n",
       " -0.00434177  -0.00417463  -0.00400274  …  0.00238622   0.00190269 \n",
       " -0.00417433  -0.00419613  -0.00398127     0.00243182   0.00209947 \n",
       " -0.00400274  -0.00398208  -0.00372966     0.00212044   0.00195788 \n",
       " -0.00366998  -0.0037813   -0.00353487     0.0018346    0.00185967 \n",
       " -0.00346956  -0.00353546  -0.0032857      0.00157185   0.00165426 \n",
       " -0.00394766  -0.00417463  -0.00400274  …  0.00237443   0.00211925 \n",
       " -0.00354116  -0.00383628  -0.00366998     0.00168323   0.00171608 \n",
       " -0.00343409  -0.00366998  -0.00346956     0.00155386   0.00166614 \n",
       " -0.00319648  -0.0035409   -0.00343409     0.00085825   0.000936244\n",
       " -0.00432069  -0.00419993  -0.00386956     0.00226714   0.002145   \n",
       " -0.00367043  -0.00368469  -0.0033796   …  0.00169716   0.00181926 \n",
       " -0.0042047   -0.00418     -0.00378311     0.0021381    0.00226525 \n",
       " -0.00351351  -0.00367078  -0.00339343     0.00161395   0.00183137 \n",
       "  ⋮                                     ⋱  ⋮                       \n",
       " -0.00368002  -0.00401373  -0.0037225   …  0.00182005   0.0022371  \n",
       " -0.00311038  -0.00350394  -0.00340034     0.000452276  0.000553133\n",
       " -0.00339217  -0.00384777  -0.00368002     0.00104761   0.00136784 \n",
       " -0.0042201   -0.00449812  -0.00401371     0.00226152   0.00291238 \n",
       " -0.00442301  -0.00461847  -0.00405485     0.00225903   0.00292785 \n",
       " -0.00403015  -0.00459689  -0.0042201   …  0.00226357   0.00331075 \n",
       " -0.00435586  -0.00493796  -0.00442301     0.00261113   0.00392319 \n",
       " -0.00357018  -0.00420579  -0.00403015     0.00080282   0.00131843 \n",
       " -0.00389939  -0.00464189  -0.00435586     0.00169417   0.00307056 \n",
       " -0.00456354  -0.0054383   -0.00484213     0.00278018   0.00530935 \n",
       " -0.00392381  -0.00482328  -0.00456354  …  0.00105031   0.00270604 \n",
       " -0.00422275  -0.00522009  -0.00482281     0.00187522   0.00492302 "
      ]
     },
     "execution_count": 152,
     "metadata": {},
     "output_type": "execute_result"
    }
   ],
   "source": [
    "Ab[Tree[block[i,1]],Tree[block[i,2]]]"
   ]
  },
  {
   "cell_type": "code",
   "execution_count": 153,
   "metadata": {},
   "outputs": [
    {
     "data": {
      "text/plain": [
       "27×27 Array{Float64,2}:\n",
       " -16.5692        133.1         34.7028     …   -36.8946       13.2577   \n",
       "  24.7987       -226.4        -67.8908          43.8602      -28.9643   \n",
       "   6.37754       214.327       42.4378         -35.7909       29.7385   \n",
       " -14.3993        115.878       30.2176         -32.1147       11.5336   \n",
       "  21.5651       -196.755      -58.995           38.123       -25.1566   \n",
       "  59.8589        -32.231      -39.7914     …    34.8436        6.25895  \n",
       "   5.56373       185.66        36.7652         -31.0019       25.7431   \n",
       " 380.821       -1664.95      -570.833          479.152      -157.402    \n",
       " 238.564        -929.862     -332.686          280.66        -83.1553   \n",
       " -12.3816         99.8486      26.0426         -27.6662        9.92947  \n",
       "  18.5574       -169.189      -50.7237     …    32.7878      -21.6171   \n",
       "  51.4196        -27.6537     -34.1482          29.9046        5.37125  \n",
       "   4.80533       159.05        31.4994         -26.5566       22.0359   \n",
       "   ⋮                                       ⋱     ⋮                      \n",
       " 416.781         414.952      147.064      …   -79.2043       -3.98418  \n",
       " 362.741        -377.235     -125.676          102.33        -49.2065   \n",
       " 374.972        1204.9        441.112         -110.974       -27.6247   \n",
       "  -0.791873        1.17248      0.414911        -0.627146     -0.250371 \n",
       "   1.40582        -0.113084    -0.0061444        0.0510835    -0.267336 \n",
       "   0.00495957     -0.895354     0.0815775  …    -0.0527707    -0.474864 \n",
       "   0.943934        0.518104     0.99091         -0.150864     -0.76386  \n",
       "   2.31476        -2.19902     -0.726498         0.621945     -0.268902 \n",
       "   1.1088          0.969564     0.412794        -0.186112     -0.0680248\n",
       "   1.05786         3.19982      1.22757         -0.257918     -0.0964951\n",
       "   0.322297        1.05777      0.461359   …     0.0515136    -0.082152 \n",
       "   0.107647        0.474929     0.239193         0.324876     -0.0752906"
      ]
     },
     "execution_count": 153,
     "metadata": {},
     "output_type": "execute_result"
    }
   ],
   "source": [
    "A[i,1]*A[i,2]"
   ]
  },
  {
   "cell_type": "markdown",
   "metadata": {},
   "source": [
    "Vou rodar a const3D_tri.Hinterp_POT pro primeiro bloco e comparo com a Ab que eu acabei de rodar e vou debuggando até ficar igual."
   ]
  }
 ],
 "metadata": {
  "kernelspec": {
   "display_name": "Julia 0.6.4",
   "language": "julia",
   "name": "julia-0.6"
  },
  "language_info": {
   "file_extension": ".jl",
   "mimetype": "application/julia",
   "name": "julia",
   "version": "0.6.4"
  }
 },
 "nbformat": 4,
 "nbformat_minor": 2
}
