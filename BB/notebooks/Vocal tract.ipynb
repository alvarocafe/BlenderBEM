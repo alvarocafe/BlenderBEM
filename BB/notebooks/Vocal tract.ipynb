{
 "cells": [
  {
   "cell_type": "markdown",
   "metadata": {},
   "source": [
    "# Vocal tract modelling"
   ]
  },
  {
   "cell_type": "markdown",
   "metadata": {},
   "source": [
    "In this notebook, the geometry of a vocal tract will be inferred using the boundary element method (BEM) and a genetic algorithm. First, the BEM will be used to build an acoustic model of a vocal tract. "
   ]
  },
  {
   "cell_type": "code",
   "execution_count": 1,
   "metadata": {},
   "outputs": [
    {
     "ename": "LoadError",
     "evalue": "LoadError: LoadError: syntax: invalid syntax \"1./\"; add space(s) to clarify\nin expression starting at C:\\Users\\GDS2\\Dropbox\\Projeto CARAcous\\Compartilhamento_Girao_Alvaro\\Alvaro\\dev\\new_bem\\src\\const2D\\cal.jl:510\nin expression starting at C:\\Users\\GDS2\\Dropbox\\Projeto CARAcous\\Compartilhamento_Girao_Alvaro\\Alvaro\\dev\\new_bem\\src\\const2D\\const2D.jl:16",
     "output_type": "error",
     "traceback": [
      "LoadError: LoadError: syntax: invalid syntax \"1./\"; add space(s) to clarify\nin expression starting at C:\\Users\\GDS2\\Dropbox\\Projeto CARAcous\\Compartilhamento_Girao_Alvaro\\Alvaro\\dev\\new_bem\\src\\const2D\\cal.jl:510\nin expression starting at C:\\Users\\GDS2\\Dropbox\\Projeto CARAcous\\Compartilhamento_Girao_Alvaro\\Alvaro\\dev\\new_bem\\src\\const2D\\const2D.jl:16",
      "",
      "Stacktrace:",
      " [1] include at .\\boot.jl:326 [inlined]",
      " [2] include_relative(::Module, ::String) at .\\loading.jl:1038",
      " [3] include at .\\sysimg.jl:29 [inlined]",
      " [4] include(::String) at C:\\Users\\GDS2\\Dropbox\\Projeto CARAcous\\Compartilhamento_Girao_Alvaro\\Alvaro\\dev\\new_bem\\src\\const2D\\const2D.jl:10",
      " [5] top-level scope at none:0",
      " [6] include at .\\boot.jl:326 [inlined]",
      " [7] include_relative(::Module, ::String) at .\\loading.jl:1038",
      " [8] include(::Module, ::String) at .\\sysimg.jl:29",
      " [9] include(::String) at .\\client.jl:403",
      " [10] top-level scope at none:0",
      " [11] include at .\\boot.jl:326 [inlined]",
      " [12] include_relative(::Module, ::String) at .\\loading.jl:1038",
      " [13] include(::Module, ::String) at .\\sysimg.jl:29",
      " [14] include(::String) at .\\client.jl:403",
      " [15] top-level scope at In[1]:1"
     ]
    }
   ],
   "source": [
    "include(\"../BEM_base.jl\"); # The BEM algorithms are defined in the BEM_base"
   ]
  },
  {
   "cell_type": "code",
   "execution_count": 5,
   "metadata": {
    "scrolled": true
   },
   "outputs": [
    {
     "ename": "MethodError",
     "evalue": "MethodError: no method matching setindex_shape_check(::Int64, ::Int64, ::Int64)\nClosest candidates are:\n  setindex_shape_check(!Matched::AbstractArray{#s72,1} where #s72, ::Integer, ::Integer) at indices.jl:221\n  setindex_shape_check(!Matched::AbstractArray{#s72,2} where #s72, ::Integer, ::Integer) at indices.jl:225\n  setindex_shape_check(!Matched::AbstractArray, ::Integer...) at indices.jl:179\n  ...",
     "output_type": "error",
     "traceback": [
      "MethodError: no method matching setindex_shape_check(::Int64, ::Int64, ::Int64)\nClosest candidates are:\n  setindex_shape_check(!Matched::AbstractArray{#s72,1} where #s72, ::Integer, ::Integer) at indices.jl:221\n  setindex_shape_check(!Matched::AbstractArray{#s72,2} where #s72, ::Integer, ::Integer) at indices.jl:225\n  setindex_shape_check(!Matched::AbstractArray, ::Integer...) at indices.jl:179\n  ...",
      "",
      "Stacktrace:",
      " [1] macro expansion at .\\multidimensional.jl:694 [inlined]",
      " [2] _unsafe_setindex!(::IndexLinear, ::Array{Float64,2}, ::Int64, ::Base.Slice{Base.OneTo{Int64}}, ::Int64) at .\\multidimensional.jl:689",
      " [3] _setindex! at .\\multidimensional.jl:684 [inlined]",
      " [4] setindex!(::Array{Float64,2}, ::Int64, ::Function, ::Int64) at .\\abstractarray.jl:1020",
      " [5] top-level scope at In[5]:14"
     ]
    }
   ],
   "source": [
    "# Set the msh file location\n",
    "file = \"../dados/vocal_tract/vocal_tract_A_bothclosed.msh\";\n",
    "# Build the domain points\n",
    "L = 140; # Length of the vocal tract\n",
    "n_pint = 50; # Number of domain points\n",
    "PONTOS_int = zeros(n_pint,4);\n",
    "delta = 1; # distance from both ends \n",
    "passo = (L-2*delta)/(n_pint-1);\n",
    "for i = 1:n_pint\n",
    "    PONTOS_int[i,:] = [i 0 0 delta+(i-1)*passo];\n",
    "end\n",
    "# Set the boundary conditions for each face. Vowel /A/ model has 30 faces\n",
    "BCFace = ones(30,3);\n",
    "BCFace[:,3] = 0;\n",
    "BCFace[1,:] = [1 0 -1]; # Neumann (flux = 1) to the Glotis\n",
    "BCFace[30,:] = [30 0 0]; # Dirichlet (pressure = 0) to the mouth\n",
    "CW = 343*1000; # Speed of sound in mm/s\n",
    "k = 774/CW/2/pi; # Set the wavenumber\n",
    "# Solve the BEM model\n",
    "u,q,uint,qint = BEM_base(file,PONTOS_int,BCFace,k, \"wave\");"
   ]
  },
  {
   "cell_type": "code",
   "execution_count": null,
   "metadata": {},
   "outputs": [],
   "source": []
  },
  {
   "cell_type": "code",
   "execution_count": null,
   "metadata": {},
   "outputs": [],
   "source": []
  },
  {
   "cell_type": "code",
   "execution_count": 6,
   "metadata": {},
   "outputs": [
    {
     "ename": "UndefVarError",
     "evalue": "UndefVarError: const3D_tri not defined",
     "output_type": "error",
     "traceback": [
      "UndefVarError: const3D_tri not defined",
      "",
      "Stacktrace:",
      " [1] top-level scope at util.jl:156",
      " [2] top-level scope at In[6]:1"
     ]
    }
   ],
   "source": [
    "@time mshinfo = const3D_tri.lermsh(file,3) #Read the mesh generated \n",
    "NOS_GEO,ELEM,elemint,CDC = mshinfo;\n",
    "const3D_tri.mostra_resultados2(NOS_GEO,ELEM,real.(u[:,1]));"
   ]
  },
  {
   "cell_type": "code",
   "execution_count": null,
   "metadata": {},
   "outputs": [],
   "source": []
  },
  {
   "cell_type": "code",
   "execution_count": null,
   "metadata": {},
   "outputs": [],
   "source": []
  },
  {
   "cell_type": "code",
   "execution_count": null,
   "metadata": {},
   "outputs": [],
   "source": []
  }
 ],
 "metadata": {
  "kernelspec": {
   "display_name": "Julia 1.1.0",
   "language": "julia",
   "name": "julia-1.1"
  },
  "language_info": {
   "file_extension": ".jl",
   "mimetype": "application/julia",
   "name": "julia",
   "version": "1.1.0"
  }
 },
 "nbformat": 4,
 "nbformat_minor": 2
}
