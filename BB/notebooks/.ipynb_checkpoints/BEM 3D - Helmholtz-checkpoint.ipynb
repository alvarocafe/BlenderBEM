{
 "cells": [
  {
   "cell_type": "markdown",
   "metadata": {},
   "source": [
    "## Boundary element method for acoustics (3D)"
   ]
  },
  {
   "cell_type": "markdown",
   "metadata": {},
   "source": [
    "### Triangular and quadrilateral constant elements\n",
    "\n",
    "In this section, the same internal and external problem will be solved using the BEM and constant elements: triangular and quadrilateral elements. The problem which will be solved is the vibrating cylinder.\n",
    "\n",
    "The vibrating cylinder is a classical wave propagation problem in 2D and 3D space in which an infinite cylinder is let to vibrate in a free-space domain. This problem closely resembles Green's point source perturbation of an infinite domain. \n",
    "\n",
    "The problem is stated as such: let an infinite acoustically rigid cylinder vibrate in an infinite acoustic domain, what is the velocity potential and acoustic pressure field in the vicinities of the cylinder, in a plane parallel to the radial direction? \n",
    "\n",
    "The walls of the cylinder are subjected to Neumann boundary conditions ($\\frac{\\partial \\phi}{\\partial n} = \\bar{q}$). The analytical solution is\n",
    "\n",
    "\\begin{equation}\\label{cyl_anal}\n",
    "\t\\phi_{cyl} (r) = - \\frac{V}{k} \\frac{H_0 ^{(2)} (k r)}{H_1 ^{(2)} (k a)},\n",
    "\\end{equation}\n",
    "where $V$ is the amplitude of the cylinder vibration (set to unity), $k$ is the wave number, $a$ is the radius of the cylinder, $r$ is the distance from the cylinder, $H_0 ^{(2)}$ and $H_1 ^{(2)}$ are the Hankel functions of second species and order 0 and 1, respectively. "
   ]
  },
  {
   "cell_type": "markdown",
   "metadata": {
    "collapsed": true
   },
   "source": [
    "#### Internal problem - acoustic duct\n",
    "\n",
    "In order to assess the validity of the programs, a simple internal acoustics problem will be solved using the triangular and quadrilateral elements: the acoustic duct problem. This problem consists of a cylindrical duct which can be either open on both ends, closed on one end and open on the other or closed in both ends. The analytical solution can be obtained by solving the time-harmonic wave equation by separation of variables and the resonance frequencies are given by\n",
    "- closed duct on both ends\n",
    "\\begin{equation}\n",
    "    F_{closed\\ duct}\\ (n,L) = \\frac{\\pi\\ n\\ c}{L}\n",
    "\\end{equation}\n",
    "where $c$ is the wave propagation speed, $n=0,1,2,...$ is the mode number and $L$ is the length of the duct. The frequency is in rad/s, divide it to $2\\ pi$ to obtain the frequency in Hz. The duct which will be studied has length = 100 mm and diameter = 10 mm. The speed of sound is $c = 343$ m/s and only the first non-zero mode will be studied ($n=1$).\n",
    "\n",
    "The acoustic flux is zero at the walls of the duct. So a Neumann boundary condition is applied to the whole boundary, such that $\\frac{\\partial \\phi}{\\partial n} = \\bar{q}$."
   ]
  },
  {
   "cell_type": "code",
   "execution_count": null,
   "metadata": {},
   "outputs": [],
   "source": [
    "c = 343*1000 # Speed of propagation in mm/s\n",
    "F_closed(n,L,c) = pi*n*c/L # Analytical resonance frequency in rad/s\n",
    "for n=1:3\n",
    "    println(\"Mode n = $(n), L = $(L=100) m, F = $(F_closed(n,L,c)/(2*pi)) Hz.\")\n",
    "end"
   ]
  },
  {
   "cell_type": "markdown",
   "metadata": {},
   "source": [
    "Notice that the actual solution is simply a time and space harmonic in which the velocity potential (proportional to the acoustic pressure) assumes its maximum value at the walls of the duct. "
   ]
  },
  {
   "cell_type": "code",
   "execution_count": null,
   "metadata": {},
   "outputs": [],
   "source": [
    "using PyPlot\n",
    "L=100\n",
    "phi_closed(x,n,L,c) = cos.(n*pi*(x./L))\n",
    "x1 = 0.01:0.1:L\n",
    "for n =1:3\n",
    "    plot(x1,phi_closed(x1,n,L,c),label=\"Mode n=$(n), F = $(F_closed(n,L,c)/(2*pi)) Hz\")\n",
    "    hold(1)\n",
    "    legend()\n",
    "    xlabel(\"distance [m]\")\n",
    "    ylabel(\"normalized velocity potential\")\n",
    "    grid(1)\n",
    "end\n",
    "hold(0)"
   ]
  },
  {
   "cell_type": "markdown",
   "metadata": {},
   "source": [
    "##### Quadrilateral elements\n",
    "The cylinder is modelled using Gmsh and its nodes are shown below:"
   ]
  },
  {
   "cell_type": "code",
   "execution_count": null,
   "metadata": {},
   "outputs": [],
   "source": [
    "include(\"../src/const3D_quad/dep.jl\")\n",
    "NOS_GEO,ELEM,elemint,CDC = lermsh(\"../dados/cylinder_in_quad_v.msh\",3) #Read the mesh generated \n",
    "NOS = mostra_geo(NOS_GEO,ELEM);"
   ]
  },
  {
   "cell_type": "markdown",
   "metadata": {},
   "source": [
    "The conventional boundary integral equation (CBIE) relates the velocity potential $\\phi$ at point $x'$, known as source point, and its normal derivative at the boundary of the domain $\\Gamma = \\partial \\Omega$  at every other point $x$ (field points). The CBIE for the BEM can be written as\n",
    "\n",
    "\\begin{equation}\n",
    " c(x') \\phi(x') = \\int_{\\Gamma} \\frac{\\partial \\phi (x)}{\\partial n} \\phi^{*}(x',x,k) d \\Gamma - \\int_{\\Gamma} \\phi(x) \\frac{\\partial \\phi^{*}(x',x,k)}{\\partial n} d \\Gamma\n",
    "\\end{equation}\n",
    "where the jump term is $c(x') = 1 / 2$ for smooth boundary on $x'$. A geometric approximation is applied to the boundary such that $\\Gamma \\approx \\sum_{i=1}^{NE} \\Gamma_i$. After the discretization, a linear system of equations is defined such that the terms of the CBIE:\n",
    "\n",
    "\\begin{equation}\\label{eq_discr}\n",
    "  \\left[H\\right]\\left\\{\\phi \\right\\} = \\left[G\\right]\\left\\{\\frac{\\partial \\phi}{\\partial n} \\right\\}.\n",
    "\\end{equation}\n",
    "\n",
    "The left and right hand sides of this matricial equation contains vectors which are populated with information about the velocity potential and its normal derivative. This matricial system can be rearranged such that all of the unknowns of this vectors are on the left side and all of the knowns are on the right side hand of the equation. This process is known as applying the boundary conditions. The result is a linear system which can be solved directly.\n",
    "\n",
    "\\begin{equation}\n",
    "  \\left[A\\right]\\left\\{x \\right\\} = \\left\\{b \\right\\}.\n",
    "\\end{equation}\n",
    "\n",
    "\n",
    "Once the system is solved and vector $x$ is known, one applies the boundary conditions again to build vector $\\left\\{\\phi \\right\\}$ and $\\left\\{\\frac{\\partial \\phi }{\\partial n} \\right\\}$."
   ]
  },
  {
   "cell_type": "code",
   "execution_count": null,
   "metadata": {},
   "outputs": [],
   "source": [
    "# First, matrices G and H are obtained.\n",
    "# To obtain, the resonance frequency is used to obtain the wave number k = omega/c\n",
    "n = 1; L = 100; c = 343*1000;\n",
    "k = F_closed(n,L,c)/c\n",
    "# Gaussian quadrature - generation of points and weights [-1,1]\n",
    "npg=6; # Number of integration points\n",
    "qsi,w = Gauss_Legendre(-1,1,npg) # Generation of the points and weights\n",
    "println(\"Building G and H matrices...\")\n",
    "@time G,H,phi_inc = cal_GeH(NOS,NOS_GEO,ELEM,k,qsi,w,0) #Compute the G and H matrices\n",
    "# To apply the boundary conditions, when no BCFace is given to the lermsh command, all of the boundary conditions are assumed to be Neumann and null\n",
    "# So, a new BCFace is built\n",
    "BCFace = [1 1 0\n",
    "          2 1 0\n",
    "          3 1 0\n",
    "          4 0 1] # This will act like a piston in the end of the cylinder so that the cavity is perturbed\n",
    "CDC = gera_CDC(ELEM,BCFace)\n",
    "# Now, the boundary conditions are applied to obtain the linear system\n",
    "A,b = aplica_cdc(G,H,CDC) #Applies the boundary conditions and returns matrix A and vector b for the linear system\n",
    "x = A\\b # Solves the linear system\n",
    "phi,q = monta_Teq(CDC,x); # Applies the boundary conditions to return the velocity potential and flux"
   ]
  },
  {
   "cell_type": "code",
   "execution_count": null,
   "metadata": {},
   "outputs": [],
   "source": [
    "# Now, the domain points will be created\n",
    "n_pint = 30;\n",
    "PONTOS_int = zeros(n_pint,4)\n",
    "for i = 1:n_pint\n",
    "\tPONTOS_int[i,:] = [i 0 0 (100/n_pint-0.01)*i]\n",
    "end\n",
    "# The velocity potential is obtained for domain points\n",
    "phi_pint=calc_T_pint(PONTOS_int,NOS_GEO,ELEM,phi,q,k,qsi,w,0)\n",
    "plot(PONTOS_int[:,4],real(phi_pint)./maximum(abs.(phi_pint[:,1])),label=\"BEM\")\n",
    "xlabel(\"distance [m]\")\n",
    "ylabel(\"normalized velocity potential\")\n",
    "grid(1)\n",
    "hold(1)\n",
    "plot(x1,phi_closed(x1,n,L,c),label=\"Mode n=$(n), F = $(F_closed(n,L,c)/(2*pi)) Hz\")\n",
    "legend()\n"
   ]
  },
  {
   "cell_type": "markdown",
   "metadata": {},
   "source": [
    "##### Triangular elements\n",
    "Now the problem is discretized using triangular constant elements."
   ]
  },
  {
   "cell_type": "code",
   "execution_count": null,
   "metadata": {},
   "outputs": [],
   "source": [
    "F_closed(n,L,c) = pi*n*c/L # Analytical resonance frequency in rad/s\n",
    "phi_closed(x,n,L,c) = cos.(n*pi*(x./L))\n",
    "n = 1; L = 100; c = 343*1000;\n",
    "k = F_closed(n,L,c)/c\n",
    "## Until now, the functions for building and solving the matrices\n",
    "# and linear systems have been used directly.\n",
    "# Now, the BEM_base program will be used to call these functions \n",
    "# according to the element type.\n",
    "include(\"../BEM_base.jl\") # Defines the BEM_base function.\n",
    "# The domain points must be created before calling BEM_base.\n",
    "n_pint = 100 # Number of domain points\n",
    "PONTOS_int = zeros(n_pint,4)\n",
    "for i = 1:n_pint\n",
    "\tPONTOS_int[i,:] = [i 0 0 (100/n_pint - 0.01)*i]\n",
    "end\n",
    "# The boundary conditions are specified for each face of the boundary.\n",
    "BCFace = [1 1 0 # This new BCFace will impose a non null Neumann boundary condition to face 4\n",
    "          2 1 0\n",
    "          3 1 0\n",
    "          4 0 1] # This will act like a piston in the end of the cylinder so that the cavity is perturbed\n",
    "#Now, the problem can be solved.\n",
    "println(\"Triangular elements\")\n",
    "u,q,uint,qint = BEM_base(\"../dados/cylinder_in_tri_v.msh\",PONTOS_int,BCFace,k,\"wave\");\n",
    "#println(\"Quadrilateral elements.\")\n",
    "#uq,qq,uqint,qqint = BEM_base(\"../dados/cylinder_in_quad_v.msh\",PONTOS_int,BCFace,k,\"wave\");\n"
   ]
  },
  {
   "cell_type": "markdown",
   "metadata": {},
   "source": [
    "Now, the velocity potential and its normal derivative at the boundary are in vectors $u,\\ q$ and the potential and its normal derivative on the domain points are in vectors $uint,\\ qint$. The velocity potential at domain points can be graphed alongside the analytical solution."
   ]
  },
  {
   "cell_type": "code",
   "execution_count": null,
   "metadata": {},
   "outputs": [],
   "source": [
    "using PyPlot\n",
    "plot(PONTOS_int[:,4],real(uint),label=\"BEM tri\")\n",
    "hold(1)\n",
    "#plot(PONTOS_int[:,4],real(uqint),label=\"BEM quad\")\n",
    "xlabel(\"distance [m]\")\n",
    "ylabel(\"normalized velocity potential\")\n",
    "grid(1)\n",
    "plot(PONTOS_int[:,4],phi_closed(PONTOS_int[:,4],n,L,c),label=\"Mode n=$(n), F = $(F_closed(n,L,c)/(2*pi)) Hz\")\n",
    "legend()\n",
    "hold(0)"
   ]
  },
  {
   "cell_type": "code",
   "execution_count": null,
   "metadata": {},
   "outputs": [],
   "source": [
    "mshinfo = const3D_tri.lermsh(\"../dados/cylinder_in_tri_v.msh\",3) #Read the mesh generated \n",
    "NOS_GEO,ELEM,elemint,CDC = mshinfo\n",
    "const3D_tri.mostra_resultados2(NOS_GEO,ELEM,real.(u[:,1]))"
   ]
  },
  {
   "cell_type": "code",
   "execution_count": null,
   "metadata": {},
   "outputs": [],
   "source": []
  },
  {
   "cell_type": "markdown",
   "metadata": {},
   "source": [
    "###### Effect of removing the endings of the duct\n",
    "\n",
    "The endings of the acoustic duct are meshed and the boundary conditions are applied to this elements so that a open duct condition is imposed, but there is an option of simply not meshing this faces. The effect of removing this elements is carried out here and the results are shown."
   ]
  },
  {
   "cell_type": "code",
   "execution_count": null,
   "metadata": {},
   "outputs": [],
   "source": [
    "F_closed(n,L,c) = pi*(2*n-1)*c/(2*L) # Analytical resonance frequency in rad/s\n",
    "phi_closed(x,n,L,c) = cos.(n*(pi/2)*(x./L))\n",
    "n = 1; L = 100; c = 343*1000;\n",
    "k = F_closed(n,L,c)/c\n",
    "## Until now, the functions for building and solving the matrices\n",
    "# and linear systems have been used directly.\n",
    "# Now, the BEM_base program will be used to call these functions \n",
    "# according to the element type.\n",
    "include(\"../BEM_base.jl\") # Defines the BEM_base function.\n",
    "# The domain points must be created before calling BEM_base.\n",
    "n_pint = 100 # Number of domain points\n",
    "PONTOS_int = zeros(n_pint,4)\n",
    "for i = 1:n_pint\n",
    "\tPONTOS_int[i,:] = [i 0 0 (120/n_pint - 0.01)*i]\n",
    "end\n",
    "# The boundary conditions are specified for each face of the boundary.\n",
    "BCFace = [1 1 0 # This new BCFace will impose a non null Neumann boundary condition to face 4\n",
    "          2 1 0\n",
    "          3 1 1 # This will act like a piston in the end of the cylinder so that the cavity is perturbed\n",
    "          4 0 0] \n",
    "BCFace_V = [1 1 0 # This new BCFace will impose a non null Neumann boundary condition to face 4\n",
    "            2 1 0\n",
    "            3 0 1] # This will act like a piston in the end of the cylinder so that the cavity is perturbed\n",
    "#Now, the problem can be solved.\n",
    "println(\"Triangular elements\")\n",
    "u,q,uint,qint = BEM_base(\"../dados/cylinder_in_V_allfaces.msh\",PONTOS_int,BCFace,k,\"wave\");\n",
    "uv,qv,uintv,qintv = BEM_base(\"../dados/cylinder_in_V_noface4.msh\",PONTOS_int,BCFace_V,k,\"wave\");"
   ]
  },
  {
   "cell_type": "code",
   "execution_count": null,
   "metadata": {},
   "outputs": [],
   "source": [
    "# Creating the graphics\n",
    "using PyPlot\n",
    "plot(PONTOS_int[:,4],real(uint)./maximum(abs.(uint)),label=\"All faces discretized\")\n",
    "hold(1)\n",
    "plot(PONTOS_int[:,4],real(uintv)./maximum(abs.(uintv)),label=\"Face 4 (duct ending) not discretized\")\n",
    "xlabel(\"distance [mm]\")\n",
    "ylabel(\"velocity potential\")\n",
    "grid(1)\n",
    "plot(PONTOS_int[:,4],phi_open(PONTOS_int[:,4],n,L,c),label=\"Mode n=$(n), F = $(F_closed(n,L,c)/(2*pi)) Hz\")\n",
    "legend(loc=0)\n",
    "hold(0)"
   ]
  },
  {
   "cell_type": "markdown",
   "metadata": {},
   "source": [
    "Its clear that the results are different. "
   ]
  },
  {
   "cell_type": "code",
   "execution_count": null,
   "metadata": {},
   "outputs": [],
   "source": [
    "# Creating the graphics\n",
    "using PyPlot\n",
    "plot(PONTOS_int[:,4],real(qint),label=\"All faces discretized\")\n",
    "hold(1)\n",
    "plot(PONTOS_int[:,4],real(qintv),label=\"Face 4 (duct ending) not discretized\")\n",
    "xlabel(\"distance [mm]\")\n",
    "ylabel(\"normalized velocity potential\")\n",
    "grid(1)\n",
    "legend(loc=0)\n",
    "hold(0)"
   ]
  },
  {
   "cell_type": "code",
   "execution_count": null,
   "metadata": {},
   "outputs": [],
   "source": [
    "for k = 0.005:0.0025:0.0275\n",
    "    uv,qv,uintv,qintv = BEM_base(\"../dados/cylinder_in_V_noface4.msh\",PONTOS_int,BCFace_V,k,\"wave\");\n",
    "    plot(PONTOS_int[:,4],real(uintv),label=\"k = $(k)\")\n",
    "    hold(1)\n",
    "end\n",
    "legend(loc=0)"
   ]
  },
  {
   "cell_type": "code",
   "execution_count": null,
   "metadata": {},
   "outputs": [],
   "source": [
    "k"
   ]
  },
  {
   "cell_type": "code",
   "execution_count": null,
   "metadata": {},
   "outputs": [],
   "source": []
  },
  {
   "cell_type": "code",
   "execution_count": null,
   "metadata": {},
   "outputs": [],
   "source": []
  },
  {
   "cell_type": "code",
   "execution_count": null,
   "metadata": {},
   "outputs": [],
   "source": [
    "@testset \"3D\" begin\n",
    "    @testset \"Interior problems\" begin\n",
    "        @test closed3D() < tol\n",
    "        @test cup3D() < tol\n",
    "        @test open3D() < tol\n",
    "    end\n",
    "end"
   ]
  },
  {
   "cell_type": "code",
   "execution_count": null,
   "metadata": {},
   "outputs": [],
   "source": []
  },
  {
   "cell_type": "markdown",
   "metadata": {},
   "source": [
    "#### Vibrating cylinder using triangular constant elements\n",
    "\n",
    "To solve the vibrating cylinder problem, the normals of the boundary must point inwards to the cylinder. "
   ]
  },
  {
   "cell_type": "code",
   "execution_count": null,
   "metadata": {},
   "outputs": [],
   "source": [
    "### Analytical solution\n",
    "#The analytical solution for the vibrating cylinder obtained\n",
    "#by applying variable separation in cylindrical coordinates\n",
    "#of the Helmholtz equation is\n",
    "phi_cylinder(k,r,x) = (1/k).*(SpecialFunctions.besselh(0,2,k.*x)./SpecialFunctions.besselh(1,2,k.*r));\n",
    "#at a distance x from the cylinder of radius r."
   ]
  },
  {
   "cell_type": "code",
   "execution_count": null,
   "metadata": {},
   "outputs": [],
   "source": [
    "include(\"../BEM_base.jl\") # Defines the BEM_base function.\n",
    "using PyPlot\n",
    "F_closed(n,L,c) = pi*n*c/L # Analytical resonance frequency in rad/s\n",
    "phi_closed(x,n,L,c) = cos.(n*pi*(x./L))\n",
    "n = 2; L = 100; c = 343*1000;\n",
    "k = F_closed(n,L,c)/c\n",
    "#k=0.0001\n",
    "# Now, the domain points will be created\n",
    "using SpecialFunctions\n",
    "raio = 5\n",
    "n_pint = 100\n",
    "PONTOS_int = zeros(n_pint,4)\n",
    "dx = 10.1\n",
    "dy = 10.1\n",
    "dz = 50\n",
    "passo = 1\n",
    "phi_analytical = complex(zeros(size(PONTOS_int,1),1));\n",
    "for i = 1:n_pint  # Para n_pint pontos internos\n",
    "  PONTOS_int[i,:] = [i  dx+i*passo dy dz]\n",
    "  bh1 = SpecialFunctions.besselh(1,2,(k)*raio);\n",
    "  bh0 = SpecialFunctions.besselh(0,2,(k)*PONTOS_int[i,2]);\n",
    "  phi_analytical[i,1] = (1/k).*(bh0./bh1);\t\t#solucao anali­tica pela separacao de variaveis em coordenadas cilindricas da equacao de Helmholtz\n",
    "end\n",
    "# The boundary conditions are specified for each face of the boundary.\n",
    "BCFace = [1 1 1 # This new BCFace will impose a non null Neumann boundary condition to face 4\n",
    "          2 1 1\n",
    "          3 1 1\n",
    "          4 1 1] # This will act like a piston in the end of the cylinder so that the cavity is perturbed\n",
    "#Now, the problem can be solved.\n",
    "u,q,uint,qint = BEM_base(\"../dados/cylinder_out_tri_v.msh\",PONTOS_int,BCFace,k,\"wave\");\n",
    "\n",
    "plot(PONTOS_int[:,2],real(uint),label=\"BEM\")\n",
    "xlabel(\"distance [m]\")\n",
    "ylabel(\"normalized velocity potential\")\n",
    "grid(1)\n",
    "hold(1)\n",
    "plot(PONTOS_int[:,2],real(phi_analytical),label=\"Analytical solution\")\n",
    "legend()"
   ]
  },
  {
   "cell_type": "code",
   "execution_count": null,
   "metadata": {},
   "outputs": [],
   "source": []
  },
  {
   "cell_type": "code",
   "execution_count": null,
   "metadata": {},
   "outputs": [],
   "source": []
  },
  {
   "cell_type": "code",
   "execution_count": null,
   "metadata": {},
   "outputs": [],
   "source": []
  },
  {
   "cell_type": "code",
   "execution_count": null,
   "metadata": {},
   "outputs": [],
   "source": [
    "function cylinder3D(ne = 100,r=1,L=10,c=[0 0],k=1)\n",
    "    t=0; tH=0; tiso=0; ϵ=0; ϵH=0; ϵiso=0; phi=0; q=0; phi_dom=0;  phiH=0; qH=0; phi_domH=0;  phiiso=0; qiso=0; domiso=0;\n",
    "    #3D constant elements    \n",
    "    #NURBS\n",
    "    PNTS = [1 0 0 0\n",
    "              2 r 0 0\n",
    "              3 r L 0\n",
    "              4 0 L 0]\n",
    "    SEGS = [1 1 2 0\n",
    "            2 2 3 0\n",
    "            3 3 4 0\n",
    "            4 4 1 0]\n",
    "    MESH = [1 10\n",
    "             2 10\n",
    "             3 10\n",
    "             4 10]    \n",
    "    BCSeg = [1 1 1\n",
    "             2 1 1\n",
    "             3 1 1\n",
    "             4 1 1]\n",
    "    crv = nurbs2D.format_dad(PNTS,SEGS,MESH,BCSeg)\n",
    "    sup = Array{Surf}(1)\n",
    "    sup[1] = nurbs2D.nrbrevolve(crv,[0.5, 0.5, 0.5],[1,0,0])\n",
    "    return ϵ\n",
    "end"
   ]
  },
  {
   "cell_type": "code",
   "execution_count": null,
   "metadata": {},
   "outputs": [],
   "source": []
  },
  {
   "cell_type": "code",
   "execution_count": null,
   "metadata": {},
   "outputs": [],
   "source": [
    "### Analytical solution\n",
    "#The analytical solution for the scattering cylinder is\n",
    "besseljprime(nu,x) = -1/2*(SpecialFunctions.besselj(nu-1,x) - SpecialFunctions.besselj(nu+1,x))\n",
    "besselyprime(nu,x) = -1/2*(SpecialFunctions.bessely(nu-1,x) - SpecialFunctions.bessely(nu+1,x))\n",
    "besselhprime(nu,x) = besseljprime(nu,x) + complex(0,1)*besselyprime(nu,x)\n",
    "\n",
    "function phi_cyl_scat(k,r,θ,a)\n",
    "    phi = -(SpecialFunctions.besselj(1,k*a)/SpecialFunctions.besselh(1,k*a))*SpecialFunctions.besselh(0,k*r)\n",
    "    for n in 1:1:100\n",
    "        phi += (complex(0,1)^n)*(besseljprime(n,k*a)/besselhprime(n,k*a))*besselh(n,k*r)*cos(n*θ)\n",
    "    end\n",
    "    return phi\n",
    "end\n",
    "function cyl_scat3D(ne = 100,r=0.5,c=[0 0],k=1)\n",
    "    t=0; tH=0; tiso=0; ϵ=0; ϵH=0; ϵiso=0; phi=0; q=0; phi_dom=0;  phiH=0; qH=0; phi_domH=0;  phiiso=0; qiso=0; domiso=0;\n",
    "    return ϵH\n",
    "end"
   ]
  },
  {
   "cell_type": "code",
   "execution_count": null,
   "metadata": {},
   "outputs": [],
   "source": [
    "#################### Test case 7 ####################\n",
    "### Pulsating sphere\n",
    "# An acoustically rigid sphere is let to vibrate in an\n",
    "#infinite acoustic domain at frequency ω so that the wavenumber is k = ω/c.\n",
    "### Analytical solution\n",
    "#The analytical solution for the scattering cylinder is\n",
    "phi_sphere(k,r,a,ρ,c) = a/r*ρ*c*(-complex(0,1)*k*a/(1+complex(0,1)*k*a))*exp(complex(0,1)*k*(r-a));\n",
    "#at a distance x from the cylinder of radius r.\n",
    "### BEM model\n",
    "\n",
    "#################### Test case 8 ####################\n",
    "### Plane wave scattering on a rigid sphere\n",
    "# An acoustically rigid sphere is let to vibrate in an\n",
    "#infinite acoustic domain at frequency ω so that the wavenumber is k = ω/c.\n",
    "# The sphere also scatters a plane wave with direction d = (dx,dy,dz) and\n",
    "#wavenumber k_inc, amplitude a_inc. \n",
    "### Analytical solution\n",
    "#The analytical solution for the scattering cylinder is\n",
    "function phi_sph_scat(k,r,θ,a)\n",
    "    phi = complex(0,0)\n",
    "    for n in 1:10\n",
    "        phi += ((complex(0,1)^(n) * (2*n +1) * SpecialFunctions.bessel(n,1,k*a))/SpecialFunctions.hankel(n,1,k*a))\n",
    "    end\n",
    "    return phi\n",
    "end\n",
    "#at a distance x from the cylinder of radius r.\n",
    "### BEM model\n"
   ]
  },
  {
   "cell_type": "code",
   "execution_count": null,
   "metadata": {},
   "outputs": [],
   "source": [
    "@testset \"3D\" begin\n",
    "    @testset \"Exterior problems\" begin\n",
    "         @test cylinder3D() < tol\n",
    "         @test sphere() < tol\n",
    "         @test cyl_scat3D() < tol\n",
    "         @test sph_scat() < tol\n",
    "    end\n",
    "end"
   ]
  },
  {
   "cell_type": "code",
   "execution_count": null,
   "metadata": {},
   "outputs": [],
   "source": []
  }
 ],
 "metadata": {
  "anaconda-cloud": {},
  "kernelspec": {
   "display_name": "Julia 0.6.4",
   "language": "julia",
   "name": "julia-0.6"
  },
  "language_info": {
   "file_extension": ".jl",
   "mimetype": "application/julia",
   "name": "julia",
   "version": "0.6.4"
  }
 },
 "nbformat": 4,
 "nbformat_minor": 1
}
