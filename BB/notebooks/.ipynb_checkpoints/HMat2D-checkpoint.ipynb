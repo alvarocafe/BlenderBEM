{
 "cells": [
  {
   "cell_type": "markdown",
   "metadata": {},
   "source": [
    "# Hierarchical matrices - H matrices"
   ]
  },
  {
   "cell_type": "code",
   "execution_count": 33,
   "metadata": {},
   "outputs": [],
   "source": [
    "using Plots\n",
    "nnos=40 # tem que ser par\n",
    "NOS_GEO=zeros(nnos,2)\n",
    "ELEM=zeros(Int64,nnos-2,2)\n",
    "i1=1:Int64(nnos/2)-1\n",
    "i2=Int64(nnos/2):nnos-2\n",
    "b1=1:Int64(nnos/2)-1\n",
    "b2=Int64(nnos/2):nnos-2\n",
    "ELEM[i2,1]=i2.+1\n",
    "ELEM[i1,1]=i1\n",
    "ELEM[i2,2]=i2.+2\n",
    "ELEM[i1,2]=i1.+1\n",
    "NOS_GEO[1:nnos,1]=range(0.,length=nnos,stop=2.)\n",
    "# NOS_GEO[1:nnos,2]=2. .-range(0.,length=nnos,stop=2.)\n",
    "NOS_GEO[1:nnos,2].=2.\n",
    "NOS_GEO[Int64(nnos/2)+1:nnos,2]=20. .*ones(Int64(nnos/2));"
   ]
  },
  {
   "cell_type": "code",
   "execution_count": 34,
   "metadata": {},
   "outputs": [
    {
     "data": {
      "image/png": "[encoded data removed]"
     },
     "execution_count": 34,
     "metadata": {},
     "output_type": "execute_result"
    }
   ],
   "source": [
    "pyplot()\n",
    "plot(NOS_GEO[1:Int64(nnos/2),1],NOS_GEO[1:Int64(nnos/2),2],color=\"blue\",seriestype=:scatter,label=\"Source points\",\n",
    "    marker=(2,2.0,:o))\n",
    "plot!(NOS_GEO[Int64(nnos/2)+1:nnos,1],NOS_GEO[Int64(nnos/2)+1:nnos,2],color=\"red\",label=\"Elements\",\n",
    "    marker=(4,4.0,:s),legend=:bottomright)"
   ]
  },
  {
   "cell_type": "code",
   "execution_count": 35,
   "metadata": {},
   "outputs": [
    {
     "data": {
      "text/plain": [
       "criapontosinterp (generic function with 1 method)"
      ]
     },
     "execution_count": 35,
     "metadata": {},
     "output_type": "execute_result"
    }
   ],
   "source": [
    "function criapontosinterp(n)\n",
    "    x= cos.((2. .*(1:n) .-1).*pi./2. ./n)\n",
    "end"
   ]
  },
  {
   "cell_type": "code",
   "execution_count": 36,
   "metadata": {},
   "outputs": [
    {
     "data": {
      "text/plain": [
       "calc_fforma (generic function with 1 method)"
      ]
     },
     "execution_count": 36,
     "metadata": {},
     "output_type": "execute_result"
    }
   ],
   "source": [
    "function calc_fforma(qsi)\n",
    "  # Calcula as funções de forma lineares contínuas N1 e N2\n",
    "  N1=1. /2. .*(1. .-qsi); # Função de forma N1 => linear contínua\n",
    "  N2=1. /2. .*(1. .+qsi); # Função de forma N2 => linear contínua\n",
    "  return N1,N2\n",
    "end"
   ]
  },
  {
   "cell_type": "code",
   "execution_count": 37,
   "metadata": {},
   "outputs": [
    {
     "data": {
      "text/plain": [
       "lagrange (generic function with 2 methods)"
      ]
     },
     "execution_count": 37,
     "metadata": {},
     "output_type": "execute_result"
    }
   ],
   "source": [
    "function lagrange(pg,x,n)\n",
    "    ni = length(pg);\n",
    "    L = ones(ni,n);\n",
    "    for j = 1:n\n",
    "        for i = 1:n\n",
    "            if (i != j)\n",
    "                L[:,j] = L[:,j].*(pg .- x[i])/(x[j]-x[i]);\n",
    "            end\n",
    "        end\n",
    "    end\n",
    "    return L\n",
    "end\n",
    "\n",
    "function lagrange(pg,x1,n1,x2,n2)\n",
    "    l1=lagrange(pg[:,1],x1,n1)\n",
    "    l2=lagrange(pg[:,2],x2,n2)\n",
    "    ni=size(pg,1)\n",
    "    L=zeros(ni,n1*n2)\n",
    "    for i=1:ni\n",
    "        L[i,:]=(l1[i,:]*l2[i,:]')[:]\n",
    "    end\n",
    "    L\n",
    "end"
   ]
  },
  {
   "cell_type": "code",
   "execution_count": 38,
   "metadata": {},
   "outputs": [
    {
     "data": {
      "text/plain": [
       "Gauss_Legendre (generic function with 1 method)"
      ]
     },
     "execution_count": 38,
     "metadata": {},
     "output_type": "execute_result"
    }
   ],
   "source": [
    "function Gauss_Legendre(x1,x2,n)\n",
    "\n",
    "x = zeros(n);\n",
    "w = zeros(n);\n",
    "pp=0; # inicializando variável pp\n",
    "\n",
    "eps=3e-14;\n",
    "m=round(Int,(n+1)/2);\n",
    "xm=.5*(x2+x1);\n",
    "xl=.5*(x2-x1);\n",
    "for i=1:m\n",
    "    z=cos(pi*(i-.25)/(n+.5));\n",
    "    while 1==1\n",
    "        p1=1.;\n",
    "        p2=0.;\n",
    "        for j=1:n\n",
    "            p3=p2;\n",
    "            p2=p1;\n",
    "            p1=((2*j-1)*z*p2-(j-1)*p3)/j;\n",
    "        end\n",
    "        pp=n*(z*p1-p2)/(z*z-1);\n",
    "        z1=z;\n",
    "        z=z1-p1/pp;\n",
    "        if(abs(z-z1)<eps)\n",
    "            break\n",
    "        end\n",
    "    end\n",
    "    x[i]=xm-xl*z;\n",
    "    x[n+1-i]=xm+xl*z;\n",
    "    w[i]=2*xl/((1-z*z)*pp*pp);\n",
    "    w[n+1-i]=w[i];\n",
    "end\n",
    "    \n",
    "return x,w\n",
    "end"
   ]
  },
  {
   "cell_type": "code",
   "execution_count": 39,
   "metadata": {},
   "outputs": [
    {
     "data": {
      "text/plain": [
       "([-0.861136, -0.339981, 0.339981, 0.861136], [0.347855, 0.652145, 0.652145, 0.347855])"
      ]
     },
     "execution_count": 39,
     "metadata": {},
     "output_type": "execute_result"
    }
   ],
   "source": [
    "xmax=zeros(1,2)\n",
    "xmin=zeros(1,2)\n",
    "xmax[1]=maximum(NOS_GEO[b1,1])\n",
    "xmin[1]=minimum(NOS_GEO[b1,1])\n",
    "xmax[2]=maximum(NOS_GEO[b1,2])\n",
    "xmin[2]=minimum(NOS_GEO[b1,2])\n",
    "xs=criapontosinterp(ninterp)\n",
    "xint=zeros(ninterp*ninterp,2)\n",
    "n1,n2=calc_fforma(xs)\n",
    "xks=n1 .*xmin .+ n2 .*xmax\n",
    "npg=4\n",
    "xi,w=Gauss_Legendre(-1,1,npg)\n"
   ]
  },
  {
   "cell_type": "code",
   "execution_count": 53,
   "metadata": {},
   "outputs": [
    {
     "data": {
      "text/plain": [
       "19×4 Array{Float64,2}:\n",
       " -0.103553    0.603553   -0.103553    0.603553 \n",
       " -0.0642697   0.56427    -0.0642697   0.56427  \n",
       " -0.024986    0.524986   -0.024986    0.524986 \n",
       "  0.0142977   0.485702    0.0142977   0.485702 \n",
       "  0.0535814   0.446419    0.0535814   0.446419 \n",
       "  0.0928652   0.407135    0.0928652   0.407135 \n",
       "  0.132149    0.367851    0.132149    0.367851 \n",
       "  0.171433    0.328567    0.171433    0.328567 \n",
       "  0.210716    0.289284    0.210716    0.289284 \n",
       "  0.25        0.25        0.25        0.25     \n",
       "  0.289284    0.210716    0.289284    0.210716 \n",
       "  0.328567    0.171433    0.328567    0.171433 \n",
       "  0.367851    0.132149    0.367851    0.132149 \n",
       "  0.407135    0.0928652   0.407135    0.0928652\n",
       "  0.446419    0.0535814   0.446419    0.0535814\n",
       "  0.485702    0.0142977   0.485702    0.0142977\n",
       "  0.524986   -0.024986    0.524986   -0.024986 \n",
       "  0.56427    -0.0642697   0.56427    -0.0642697\n",
       "  0.603553   -0.103553    0.603553   -0.103553 "
      ]
     },
     "execution_count": 53,
     "metadata": {},
     "output_type": "execute_result"
    }
   ],
   "source": [
    "ninterp=2\n",
    "ϵ=1e-6\n",
    "GG = zeros(ninterp*ninterp,length(b2))      # Dimensiona matriz G\n",
    "HH = zeros(ninterp*ninterp,length(b2))      # Dimensiona matriz H\n",
    "xmax=zeros(1,2)\n",
    "xmin=zeros(1,2)\n",
    "# (xmin[1],xmin[2]),(xmax[1],xmax[2]) => bounding box\n",
    "xmax[1]=maximum(NOS_GEO[b1,1])\n",
    "xmin[1]=minimum(NOS_GEO[b1,1])\n",
    "xmax[2]=maximum(NOS_GEO[b1,2])\n",
    "xmin[2]=minimum(NOS_GEO[b1,2])\n",
    "xs=criapontosinterp(ninterp)\n",
    "xint=zeros(ninterp*ninterp,2)\n",
    "n1,n2=calc_fforma(xs)\n",
    "xks=n1 .*xmin .+ n2 .*xmax\n",
    "k=1\n",
    "ci=0\n",
    "npg=4\n",
    "xi,w=Gauss_Legendre(-1,1,npg)\n",
    "for i2 =1:ninterp # Laco sobre os pontos fontes\n",
    "    for i1 =1:ninterp # Laco sobre os pontos fontes\n",
    "        ci+=1\n",
    "        xd=xks[i1,1]; # Coordenada x do ponto fonte\n",
    "        yd=xks[i2,2]; # Coordenada y do ponto fonte\n",
    "        xint[ci,:]=[xd yd]\n",
    "        cj=0       \n",
    "        for j in b2 # Laco sobre os elementos\n",
    "            cj+=1\n",
    "            noi::Int64=ELEM[j,1]; # Ponto inicial do elemento\n",
    "            nof::Int64=ELEM[j,2]; # Ponto final do elemento\n",
    "            x1=NOS_GEO[noi,1]; # Coordenada x do ponto inicial do elemento\n",
    "            x2=NOS_GEO[nof,1]; # Coordenada x do ponto final do elemento\n",
    "            y1=NOS_GEO[noi,2]; # Coordenada y do ponto inicial do elemento\n",
    "            y2=NOS_GEO[nof,2];  # Coordenada y do ponto final do elemento\n",
    "            L=sqrt((x2-x1)^2+(y2-y1)^2)\n",
    "            sx=(x2-x1)/L\n",
    "            sy=(y2-y1)/L\n",
    "            nx=sy\n",
    "            ny=-sx\n",
    "            g=0\n",
    "            h=0\n",
    "            for kk =1:npg\n",
    "                n1,n2=calc_fforma(xi[kk])\n",
    "                x=n1*x1+n2*x2\n",
    "                y=n1*y1+n2*y2\n",
    "                rx=x-xd\n",
    "                ry=y-yd\n",
    "                r=sqrt(rx^2+ry^2)\n",
    "                rdx=rx/r\n",
    "                rdy=ry/r\n",
    "                nr=nx*rdx+ny*rdy\n",
    "                Tast=-1/(2*pi)*log(r)\n",
    "                qast=nr/(2*pi*r)\n",
    "                g=g+Tast*L/2*w[kk]\n",
    "                h=h+qast*L/2*w[kk]\n",
    "            end\n",
    "            GG[ci,cj] = g\n",
    "            HH[ci,cj] = h\n",
    "        end\n",
    "    end\n",
    "end\n",
    "if(abs(xmax[1]-xmin[1])<ϵ)\n",
    "    fontes=(2. .*(NOS_GEO[b1,2] .-xmin[2])./(xmax[2]-xmin[2]).-1);\n",
    "    LL=lagrange(fontes,xs,ninterp);\n",
    "    L=[LL LL]./2;\n",
    "elseif(abs(xmax[2]-xmin[2])<ϵ)\n",
    "    fontes=(2. .*(NOS_GEO[b1,1] .-xmin[1])./(xmax[1]-xmin[1]).-1);\n",
    "    LL=lagrange(fontes,xs,ninterp);\n",
    "    L=[LL LL]./2;\n",
    "else\n",
    "    fontes=[(2. .*(NOS_GEO[b1,1] .- xmin[1]) ./(xmax[1]-xmin[1]).-1) (2. .*(NOS_GEO[b1,2] .-xmin[2])./(xmax[2]-xmin[2]).-1)];\n",
    "    L=lagrange(fontes,xs,ninterp,xs,ninterp);\n",
    "end"
   ]
  },
  {
   "cell_type": "code",
   "execution_count": 54,
   "metadata": {},
   "outputs": [],
   "source": [
    "G = zeros(length(b1),length(b2))      # Dimensiona matriz G\n",
    "H = zeros(length(b1),length(b2))      # Dimensiona matriz H\n",
    "ci=0\n",
    "npg=4\n",
    "xi,w=Gauss_Legendre(-1,1,npg)\n",
    "for i  in b1 # Laco sobre os pontos fontes\n",
    "        ci+=1\n",
    "        no1::Int64=ELEM[i,1]; # Ponto inicial do elemento\n",
    "        no2::Int64=ELEM[i,2]; # Ponto final do elemento    \n",
    "        x1=NOS_GEO[no1,1]; # Coordenada x do ponto fonte\n",
    "        y1=NOS_GEO[no1,2]; # Coordenada y do ponto fonte\n",
    "        x2=NOS_GEO[no2,1]; # Coordenada x do ponto fonte\n",
    "        y2=NOS_GEO[no2,2]; # Coordenada y do ponto fonte\n",
    "        xd=(x1+x2)/2\n",
    "        yd=(y1+y2)/2\n",
    "        cj=0\n",
    "        for j in b2 # Laco sobre os elementos\n",
    "            cj+=1\n",
    "            noi::Int64=ELEM[j,1]; # Ponto inicial do elemento\n",
    "            nof::Int64=ELEM[j,2]; # Ponto final do elemento\n",
    "            x1=NOS_GEO[noi,1]; # Coordenada x do ponto inicial do elemento\n",
    "            x2=NOS_GEO[nof,1]; # Coordenada x do ponto final do elemento\n",
    "            y1=NOS_GEO[noi,2]; # Coordenada y do ponto inicial do elemento\n",
    "            y2=NOS_GEO[nof,2];  # Coordenada y do ponto final do elemento\n",
    "            comp=sqrt((x2-x1)^2+(y2-y1)^2)\n",
    "            sx=(x2-x1)/comp\n",
    "            sy=(y2-y1)/comp\n",
    "            nx=sy\n",
    "            ny=-sx\n",
    "            g=0\n",
    "            h=0\n",
    "            for kk =1:npg\n",
    "                n1,n2=calc_fforma(xi[kk])\n",
    "                x=n1*x1+n2*x2\n",
    "                y=n1*y1+n2*y2\n",
    "                rx=x-xd\n",
    "                ry=y-yd\n",
    "                r=sqrt(rx^2+ry^2)\n",
    "                rdx=rx/r\n",
    "                rdy=ry/r\n",
    "                nr=nx*rdx+ny*rdy\n",
    "                Tast=-1/(2*pi)*log(r)\n",
    "                qast=nr/(2*pi*r)\n",
    "                g=g+Tast*comp/2*w[kk]\n",
    "                h=h+qast*comp/2*w[kk]\n",
    "            end\n",
    "        G[ci,cj] = g\n",
    "        H[ci,cj] = h\n",
    "    end\n",
    "end"
   ]
  },
  {
   "cell_type": "code",
   "execution_count": 51,
   "metadata": {},
   "outputs": [
    {
     "data": {
      "text/plain": [
       "19×19 Array{Float64,2}:\n",
       " -0.0236038  -0.0236052  -0.0236066  …  -0.0236333  -0.0236357  -0.0236382\n",
       " -0.0236026  -0.0236038  -0.0236052     -0.023631   -0.0236333  -0.0236357\n",
       " -0.0236013  -0.0236026  -0.0236038     -0.0236287  -0.023631   -0.0236333\n",
       " -0.0236002  -0.0236013  -0.0236026     -0.0236265  -0.0236287  -0.023631 \n",
       " -0.0235991  -0.0236002  -0.0236013     -0.0236244  -0.0236265  -0.0236287\n",
       " -0.0235981  -0.0235991  -0.0236002  …  -0.0236223  -0.0236244  -0.0236265\n",
       " -0.0235971  -0.0235981  -0.0235991     -0.0236203  -0.0236223  -0.0236244\n",
       " -0.0235962  -0.0235971  -0.0235981     -0.0236184  -0.0236203  -0.0236223\n",
       " -0.0235954  -0.0235962  -0.0235971     -0.0236165  -0.0236184  -0.0236203\n",
       " -0.0235946  -0.0235954  -0.0235962     -0.0236147  -0.0236165  -0.0236184\n",
       " -0.0235939  -0.0235946  -0.0235954  …  -0.0236129  -0.0236147  -0.0236165\n",
       " -0.0235933  -0.0235939  -0.0235946     -0.0236113  -0.0236129  -0.0236147\n",
       " -0.0235927  -0.0235933  -0.0235939     -0.0236097  -0.0236113  -0.0236129\n",
       " -0.0235922  -0.0235927  -0.0235933     -0.0236081  -0.0236097  -0.0236113\n",
       " -0.0235918  -0.0235922  -0.0235927     -0.0236066  -0.0236081  -0.0236097\n",
       " -0.0235914  -0.0235918  -0.0235922  …  -0.0236052  -0.0236066  -0.0236081\n",
       " -0.0235911  -0.0235914  -0.0235918     -0.0236038  -0.0236052  -0.0236066\n",
       " -0.0235909  -0.0235911  -0.0235914     -0.0236026  -0.0236038  -0.0236052\n",
       " -0.0235907  -0.0235909  -0.0235911     -0.0236013  -0.0236026  -0.0236038"
      ]
     },
     "execution_count": 51,
     "metadata": {},
     "output_type": "execute_result"
    }
   ],
   "source": [
    "G"
   ]
  },
  {
   "cell_type": "code",
   "execution_count": 52,
   "metadata": {},
   "outputs": [
    {
     "data": {
      "text/plain": [
       "19×19 Array{Float64,2}:\n",
       " -0.0236032  -0.0236046  -0.023606   …  -0.0236332  -0.0236356  -0.0236381\n",
       " -0.0236024  -0.0236037  -0.0236051     -0.0236314  -0.0236337  -0.0236362\n",
       " -0.0236017  -0.0236029  -0.0236042     -0.0236296  -0.0236319  -0.0236342\n",
       " -0.0236009  -0.0236021  -0.0236033     -0.0236278  -0.02363    -0.0236323\n",
       " -0.0236001  -0.0236013  -0.0236024     -0.023626   -0.0236281  -0.0236304\n",
       " -0.0235994  -0.0236004  -0.0236016  …  -0.0236241  -0.0236262  -0.0236284\n",
       " -0.0235986  -0.0235996  -0.0236007     -0.0236223  -0.0236244  -0.0236265\n",
       " -0.0235979  -0.0235988  -0.0235998     -0.0236205  -0.0236225  -0.0236245\n",
       " -0.0235971  -0.023598   -0.0235989     -0.0236187  -0.0236206  -0.0236226\n",
       " -0.0235963  -0.0235971  -0.023598      -0.0236169  -0.0236187  -0.0236207\n",
       " -0.0235956  -0.0235963  -0.0235971  …  -0.0236151  -0.0236169  -0.0236187\n",
       " -0.0235948  -0.0235955  -0.0235962     -0.0236133  -0.023615   -0.0236168\n",
       " -0.023594   -0.0235946  -0.0235953     -0.0236115  -0.0236131  -0.0236148\n",
       " -0.0235933  -0.0235938  -0.0235944     -0.0236097  -0.0236112  -0.0236129\n",
       " -0.0235925  -0.023593   -0.0235935     -0.0236079  -0.0236094  -0.023611 \n",
       " -0.0235918  -0.0235922  -0.0235926  …  -0.023606   -0.0236075  -0.023609 \n",
       " -0.023591   -0.0235913  -0.0235917     -0.0236042  -0.0236056  -0.0236071\n",
       " -0.0235902  -0.0235905  -0.0235908     -0.0236024  -0.0236037  -0.0236051\n",
       " -0.0235895  -0.0235897  -0.0235899     -0.0236006  -0.0236019  -0.0236032"
      ]
     },
     "execution_count": 52,
     "metadata": {},
     "output_type": "execute_result"
    }
   ],
   "source": [
    "L*GG"
   ]
  },
  {
   "cell_type": "code",
   "execution_count": 18,
   "metadata": {},
   "outputs": [
    {
     "data": {
      "text/plain": [
       "4×19 Array{Float64,2}:\n",
       " -0.0236525  -0.0236529  -0.0236533  …  -0.0236662  -0.0236676  -0.0236691\n",
       " -0.0236621  -0.0236633  -0.0236645     -0.0236889  -0.0236912  -0.0236934\n",
       " -0.0239411  -0.0239414  -0.0239418     -0.0239538  -0.0239551  -0.0239565\n",
       " -0.02395    -0.0239511  -0.0239523     -0.023975   -0.0239771  -0.0239792"
      ]
     },
     "execution_count": 18,
     "metadata": {},
     "output_type": "execute_result"
    }
   ],
   "source": [
    "GG"
   ]
  },
  {
   "cell_type": "code",
   "execution_count": 12,
   "metadata": {},
   "outputs": [
    {
     "data": {
      "image/png": "[encoded data removed]"
     },
     "execution_count": 12,
     "metadata": {},
     "output_type": "execute_result"
    }
   ],
   "source": [
    "plot(NOS_GEO[1:Int64(nnos/2),1],NOS_GEO[1:Int64(nnos/2),2],color=\"blue\",seriestype=:scatter,label=\"Source points\",\n",
    "    marker=(2,2.0,:o))\n",
    "plot!(xint[:,1],xint[:,2],seriestype=:scatter,color=\"red\",label=\"Interpolation points\",\n",
    "    marker=(6,6.0,:s),legend=:bottomleft)"
   ]
  },
  {
   "cell_type": "code",
   "execution_count": null,
   "metadata": {},
   "outputs": [],
   "source": []
  }
 ],
 "metadata": {
  "kernelspec": {
   "display_name": "Julia 1.0.3",
   "language": "julia",
   "name": "julia-1.0"
  },
  "language_info": {
   "file_extension": ".jl",
   "mimetype": "application/julia",
   "name": "julia",
   "version": "1.0.3"
  }
 },
 "nbformat": 4,
 "nbformat_minor": 2
}
