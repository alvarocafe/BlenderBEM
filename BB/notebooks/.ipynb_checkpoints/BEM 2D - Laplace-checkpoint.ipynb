{
 "cells": [
  {
   "cell_type": "markdown",
   "metadata": {},
   "source": [
    "## Test cases for potential problems (2D)"
   ]
  },
  {
   "cell_type": "markdown",
   "metadata": {},
   "source": [
    "### Potential problems"
   ]
  },
  {
   "cell_type": "markdown",
   "metadata": {},
   "source": [
    "Let an uniform closed domain $\\Omega$ bounded by $S=\\partial \\Omega$ be a square of side $L$ with its lower left corner at the origin of the coordinate system $[x,y]$. This domain is a perfect heat conductor with an uniform constant heat conductivity $k$ $[W/(m K)]$. The heat conduction is described by the Laplace equation.\n",
    "\n",
    "The Laplace equation, also known as the potential equation, is an elliptic partial differential equation written as\n",
    "\n",
    "\\begin{equation}\n",
    "    \\nabla^2 T = 0\n",
    "\\end{equation}\n",
    "where $\\nabla^2 = \\partial^2 / \\partial x^2 + \\partial^2 / \\partial y^2 + \\partial^2 / \\partial z^2 $ is the Laplace operator and $T$ is the temperature, for potential flows, it is the velocity potential."
   ]
  },
  {
   "cell_type": "markdown",
   "metadata": {},
   "source": [
    "Consider a square plate of size $L$ \\[m\\] with an uniform heat conductivity $k$ \\[W/m.K\\] subjected at opposite faces to a temperature of 1 K and 0 K. There is no heat transfer to the two other opposing faces ($\\frac{\\partial T}{\\partial y} = 0 $). This means that the temperature gradient will be described only in the x direction ($\\frac{\\partial T}{\\partial x} = \\frac{d T}{d x}$ are interchangeable). Since the heat transfer is only going to occur in one direction, it's reasonable to approximate the Laplace equation to its one-dimensional form \n",
    "\n",
    "\\begin{equation}\n",
    "\\frac{d^2 T}{d x^2} = 0.\n",
    "\\end{equation}\n",
    "\n",
    "Integrating one time, one obtains\n",
    "\n",
    "\\begin{equation}\n",
    "\\int_{x=0}^{x=L} \\frac{d^2 T}{d x^2} dx =\\frac{d T}{d x} = -C_1,\n",
    "\\end{equation}\n",
    "which describes a temperature distribution with a constant gradient.\n",
    "\n",
    "\n",
    "A second integration gives\n",
    "\n",
    "\\begin{equation}\n",
    "\\int_{x=0}^{x=L} \\left(\\frac{d T}{d x} + C_1 \\right) dx = -C_2,\n",
    "\\end{equation}\n",
    "\n",
    "\n",
    "\\begin{equation}\n",
    "T(x) + C_1 x + C_2 = 0.\n",
    "\\end{equation}\n",
    "\n",
    "This is a linear solution for the temperature distribution, which is reasonable for its heat conduction.\n",
    "\n",
    "The boundary condition at $x = 0$ is $T(0) = 1$ and at $x=L$ is $T(L) =0$.\n",
    "\n",
    "\\begin{equation}\n",
    "T(0) + C_1 0 + C_2 = 0,\n",
    "\\end{equation}\n",
    "\\begin{equation}\n",
    "1 + C_2 = 0,\n",
    "\\end{equation}\n",
    "therefore, $C_2 = -1$.\n",
    "\n",
    "\\begin{equation}\n",
    "T(L) + C_1 L +C_2 = 0,\n",
    "\\end{equation}\n",
    "\\begin{equation}\n",
    "0 + C_1 L -1 = 0,\n",
    "\\end{equation}\n",
    "\\begin{equation}\n",
    "C_1 = \\frac{1}{L}.\n",
    "\\end{equation}\n",
    "\n",
    "So, the solution of the problem is described by the equation\n",
    "\n",
    "\\begin{equation}\n",
    "T(x) = 1 - \\frac{x}{L}.\n",
    "\\end{equation}\n",
    "\n",
    "To verify that this equation indeed solves the Laplace, its derivatives with relationship to $x$ is\n",
    "\n",
    "\\begin{equation}\n",
    "\\frac{d T(x)}{d x} = - \\frac{1}{L}\n",
    "\\end{equation}\n",
    "and\n",
    "\\begin{equation}\n",
    "\\frac{d^2 T(x)}{d x^2} = 0\n",
    "\\end{equation}\n",
    "which is the unidimensional Laplace equation.\n"
   ]
  },
  {
   "cell_type": "code",
   "execution_count": 1,
   "metadata": {},
   "outputs": [],
   "source": [
    "# First, include the module const2D\n",
    "include(\"../src/const2D/const2D.jl\")\n",
    "using const2D"
   ]
  },
  {
   "cell_type": "code",
   "execution_count": 2,
   "metadata": {},
   "outputs": [],
   "source": [
    "# Define the geometry\n",
    "L = 1; # length of the square\n",
    "k = 1; # heat conductivity of the material\n",
    "fc = [0]; # no concentrated heat sources \n",
    "ne = 20; # number of elements/line segment\n",
    "POINTS = [1 0 0\n",
    "\t  2 L 0\n",
    "\t  3 L L\n",
    "\t  4 0 L];\n",
    "SEGMENTS = [1 1 2 0\n",
    "\t     2 2 3 0\n",
    "\t     3 3 4 0\n",
    "\t     4 4 1 0];\n",
    "MESH = [1 ne\n",
    "\t 2 ne\n",
    "\t 3 ne\n",
    "\t 4 ne];\n",
    "# BCSeg =[NE BT V] are the boundary conditions at each segment.          |                                                                                                                                      |                                                                           \n",
    "#NE: element number                                                      |                                                                           \n",
    "#BT: boundary condition type                                             |                                                                           \n",
    "# BT = 0 if the temperature is known                                     |                                                                           \n",
    "# BT = 1 if the temperature gradient is known                            |                                                                           \n",
    "#V: value of boundary variable                                           |                                                                           \n",
    "BCSeg = [1 1 0\n",
    "\t 2 0 0\n",
    "\t 3 1 0\n",
    "\t 4 0 1];\n",
    "NPX = 10; # number of domain points on x and y directions\n",
    "NPY = 10;\n",
    "PONTOS_DOM=const2D.gera_p_in(NPX,NPY,POINTS,SEGMENTS); # generate domain points\n",
    "n_pdom = size(PONTOS_DOM,1);\n",
    "PONTOS_dom = zeros(n_pdom,3);\n",
    "PONTOS_dom[:,2:3] = PONTOS_DOM[:,:];\n",
    "for i = 1:n_pdom\n",
    "    PONTOS_dom[i,1] = i;\n",
    "end"
   ]
  },
  {
   "cell_type": "code",
   "execution_count": 3,
   "metadata": {},
   "outputs": [],
   "source": [
    "# Format and solve the problem\n",
    "NOS_GEO,NOS,ELEM,CDC,normal = const2D.format_dad(POINTS,SEGMENTS,MESH,BCSeg) # Apply the discretization technique and builds the problems matrices for the geometrical points, physical nodes, elements' connectivity and boundary conditions\n",
    "nnos = size(NOS,1)  # Number of physical nodes, same as elements when using constant elements\n",
    "npg=36; # Number of integration points\n",
    "qsi,w = const2D.Gauss_Legendre(-1,1,npg) # Generation of the points and weights\n",
    "G,H=const2D.cal_GeHpot(NOS,NOS_GEO,ELEM,k,fc,qsi,w);\n",
    "A,b = const2D.aplica_CDC(G,H,CDC);\n",
    "x = A\\b # Solves the linear system\n",
    "T,q = const2D.monta_phieq(CDC,x) # Applies the boundary conditions to return the velocity potential and flux\n",
    "T_dom,qx_dom,qy_dom = const2D.domain_field(PONTOS_dom[:,2:3]',NOS_GEO[:,2:3]',T,q,ELEM[:,2:3]',normal,k); # Evaluates the value at domain points"
   ]
  },
  {
   "cell_type": "code",
   "execution_count": 5,
   "metadata": {
    "scrolled": false
   },
   "outputs": [
    {
     "data": {
      "image/png": "[encoded data removed]",
      "text/plain": [
       "PyPlot.Figure(PyObject <Figure size 640x480 with 1 Axes>)"
      ]
     },
     "metadata": {},
     "output_type": "display_data"
    },
    {
     "data": {
      "image/png": "[encoded data removed]",
      "text/plain": [
       "PyPlot.Figure(PyObject <Figure size 640x480 with 2 Axes>)"
      ]
     },
     "metadata": {},
     "output_type": "display_data"
    }
   ],
   "source": [
    "## Now, let's visualize the results\n",
    "tipoCDC = zeros(Bool,size(CDC,1));\n",
    "tipoCDC[:] = CDC[:,2];\n",
    "valorCDC = CDC[:,3];\n",
    "const2D.mostra_problema(ELEM[:,2:3],NOS_GEO[:,2:3],NOS[:,2:3],tipoCDC,valorCDC,normal,T,q);\n",
    "const2D.mostra_heatmap(NOS[:,2:3],PONTOS_dom[:,2:3],real.(T),real.(T_dom),NOS_GEO[:,2:3],ELEM[:,2:3],qx_dom,qy_dom);"
   ]
  },
  {
   "cell_type": "markdown",
   "metadata": {},
   "source": [
    "The temperature obtained using the BEM is shown as is the position of the physical point, from which the analytical solution becomes obvious."
   ]
  },
  {
   "cell_type": "code",
   "execution_count": 6,
   "metadata": {},
   "outputs": [
    {
     "data": {
      "text/plain": [
       "21×4 Array{Float64,2}:\n",
       " 0.976439   0.025  1.00144   0.143926  \n",
       " 0.925912   0.075  1.00091   0.0912242 \n",
       " 0.875656   0.125  1.00066   0.065577  \n",
       " 0.825498   0.175  1.0005    0.0497807 \n",
       " 0.775385   0.225  1.00038   0.0384512 \n",
       " 0.725295   0.275  1.00029   0.0294915 \n",
       " 0.675219   0.325  1.00022   0.0219099 \n",
       " 0.625152   0.375  1.00015   0.0151644 \n",
       " 0.575089   0.425  1.00009   0.00892028\n",
       " 0.525029   0.475  1.00003   0.00294513\n",
       " 0.474971   0.525  0.999971  0.00294513\n",
       " 0.424911   0.575  0.999911  0.00892028\n",
       " 0.374848   0.625  0.999848  0.0151644 \n",
       " 0.324781   0.675  0.999781  0.0219099 \n",
       " 0.274705   0.725  0.999705  0.0294915 \n",
       " 0.224615   0.775  0.999615  0.0384512 \n",
       " 0.174502   0.825  0.999502  0.0497807 \n",
       " 0.124344   0.875  0.999344  0.065577  \n",
       " 0.0740878  0.925  0.999088  0.0912242 \n",
       " 0.0235607  0.975  0.998561  0.143926  \n",
       " 0.0        1.0    1.0       0.0       "
      ]
     },
     "execution_count": 6,
     "metadata": {},
     "output_type": "execute_result"
    },
    {
     "name": "stdout",
     "output_type": "stream",
     "text": [
      "Temp --- x coord --- T+x --- (T+x-1)*100\n"
     ]
    }
   ],
   "source": [
    "i=1; f = i+ne;\n",
    "println(\"Temp --- x coord --- T+x --- (T+x-1)*100\")\n",
    "[abs.(T[i:f,:]) abs.(NOS[i:f,2]) abs.(T[i:f,:]+NOS[i:f,2]) abs.((T[i:f,:]+NOS[i:f,2]-1)*100)]"
   ]
  },
  {
   "cell_type": "code",
   "execution_count": 8,
   "metadata": {},
   "outputs": [
    {
     "name": "stdout",
     "output_type": "stream",
     "text": [
      "Building Tree and blocks using H-Matrices.\n",
      "  0.001999 seconds (4.67 k allocations: 616.750 KiB)\n",
      "Building A and b matrices using H-Matrix with interpolation.\n",
      "  0.017837 seconds (233.20 k allocations: 4.505 MiB)\n",
      "Evaluating values at internal points.\n",
      "  0.081278 seconds (1.19 M allocations: 23.704 MiB, 9.91% gc time)\n"
     ]
    }
   ],
   "source": [
    "# Solve using H-Matrices with Lagrange polynomial approximation\n",
    "hT,hqx,hqy,hTi = const2D.solveH([NOS,NOS_GEO,ELEM,CDC], PONTOS_dom, fc, BCSeg, k);\n"
   ]
  },
  {
   "cell_type": "markdown",
   "metadata": {},
   "source": [
    "### Linear discontinuous elements"
   ]
  },
  {
   "cell_type": "markdown",
   "metadata": {},
   "source": [
    "Linear elements are defined using the same points as constant elements Even the shape function is the same, so solving the system is straightfoward. The physical nodes are located at the extremities of each line, so there are two nodes per element. A discontinuity  might exist on variables at interfaces between two different boundary conditions, which must be dealt with appropriatelly when applying the boundary conditions.\n"
   ]
  },
  {
   "cell_type": "code",
   "execution_count": null,
   "metadata": {},
   "outputs": [],
   "source": []
  },
  {
   "cell_type": "code",
   "execution_count": null,
   "metadata": {},
   "outputs": [],
   "source": [
    "T,qx,qy,Ti = linear2D.solve()"
   ]
  },
  {
   "cell_type": "markdown",
   "metadata": {},
   "source": [
    "### Quadratic discontinuous elements"
   ]
  },
  {
   "cell_type": "markdown",
   "metadata": {},
   "source": [
    "### NURBS elements"
   ]
  },
  {
   "cell_type": "code",
   "execution_count": 10,
   "metadata": {},
   "outputs": [
    {
     "name": "stderr",
     "output_type": "stream",
     "text": [
      "WARNING: replacing module nurbs2D\n"
     ]
    }
   ],
   "source": [
    "# First, include the module const2D\n",
    "include(\"../src/nurbs2D/nurbs2D.jl\")\n",
    "using nurbs2D"
   ]
  },
  {
   "cell_type": "code",
   "execution_count": 13,
   "metadata": {
    "scrolled": false
   },
   "outputs": [
    {
     "ename": "LoadError",
     "evalue": "\u001b[91mMethodError: no method matching start(::nurbs2D.Curve)\u001b[0m\nClosest candidates are:\n  start(\u001b[91m::SimpleVector\u001b[39m) at essentials.jl:258\n  start(\u001b[91m::Base.MethodList\u001b[39m) at reflection.jl:560\n  start(\u001b[91m::ExponentialBackOff\u001b[39m) at error.jl:107\n  ...\u001b[39m",
     "output_type": "error",
     "traceback": [
      "\u001b[91mMethodError: no method matching start(::nurbs2D.Curve)\u001b[0m\nClosest candidates are:\n  start(\u001b[91m::SimpleVector\u001b[39m) at essentials.jl:258\n  start(\u001b[91m::Base.MethodList\u001b[39m) at reflection.jl:560\n  start(\u001b[91m::ExponentialBackOff\u001b[39m) at error.jl:107\n  ...\u001b[39m",
      "",
      "Stacktrace:",
      " [1] \u001b[1mcollect\u001b[22m\u001b[22m\u001b[1m(\u001b[22m\u001b[22m::Base.Generator{nurbs2D.Curve,##5#6}\u001b[1m)\u001b[22m\u001b[22m at \u001b[1m./array.jl:466\u001b[22m\u001b[22m",
      " [2] \u001b[1mmap\u001b[22m\u001b[22m\u001b[1m(\u001b[22m\u001b[22m::Function, ::nurbs2D.Curve\u001b[1m)\u001b[22m\u001b[22m at \u001b[1m./abstractarray.jl:1892\u001b[22m\u001b[22m"
     ]
    }
   ],
   "source": [
    "# Characteristics of the problem: Square domain with imposed temperature in two opposite faces and imposed null temperature flux at the other two faces. \n",
    "L=1;\n",
    "PONTOS = [1 0 0\n",
    "\t  2 L 0\n",
    "\t  3 L L\n",
    "\t  4 0 L];\n",
    "SEGMENTOS = [1 1 2 0\n",
    "\t     2 2 3 0\n",
    "\t     3 3 4 0\n",
    "\t     4 4 1 0];\n",
    "ne = 4;\n",
    "MALHA = [1 ne\n",
    "\t 2 ne\n",
    "\t 3 ne\n",
    "\t 4 ne];\n",
    "CCSeg = [1 1 0\n",
    "\t 2 0 1\n",
    "\t 3 1 0\n",
    "\t 4 0 0];\n",
    "crv,contorno = nurbs2D.format_dad_iso(PONTOS,SEGMENTOS,MALHA)\n",
    "dcrv=map(x->nurbs2D.nrbderiv(x),crv)\n",
    "n = length(crv);\t# N�mero total de elementos\n",
    "  p=1;#refinamento p\n",
    "  for i=1:n\n",
    "      degree=crv[i].order-1\n",
    "      #\tprintln(crv[i].knots)\n",
    "      #\tprintln(crv[i].coefs)\n",
    "      coefs,knots = nurbs2D.bspdegelev(degree,crv[i].coefs,crv[i].knots,p)\n",
    "      #\tprintln(knots)\n",
    "      #\tprintln(coefs)\n",
    "      crv[i] = nurbs2D.nrbmak(coefs,knots)\n",
    "  end\n",
    "  h=10;#refinamento h\n",
    "  for i=1:n\n",
    "    novosnos=linspace(0,1,h+2)\n",
    "    degree=crv[i].order-1\n",
    "    coefs,knots = nurbs2D.bspkntins(degree,crv[i].coefs,crv[i].knots,novosnos[2:end-1])\n",
    "    crv[i] = nurbs2D.nrbmak(coefs,knots)\n",
    "  end\n",
    "z=0;\n",
    "for k=1:n\n",
    "\tfor i=1:crv[k].number\n",
    "\t\tz=z+1\n",
    "\tend\n",
    "end\n",
    "numcurva=zeros(Integer,z)\n",
    "collocPts=zeros(z)\n",
    "CDC=zeros(z,3)\n",
    "collocCoord=zeros(z,3)\n",
    "z=0;\n",
    "nnos=zeros(Integer,n)\n",
    "for k=1:n\n",
    "\tp=crv[k].order-1;\n",
    "\tnnos[k]=crv[k].number;\n",
    "\tvalorCDC=CCSeg[k,3];\n",
    "\ttipoCDC=CCSeg[k,2];\n",
    "\tfor i=1:crv[k].number\n",
    "\t\tz=z+1;\n",
    "\t\tnumcurva[z]=k;\n",
    "\t\tcollocPts[z]=sum(crv[k].knots[(i+1):(i+p)])/p;\n",
    "\t\tif(i==2)\n",
    "\t\t\tcollocPts[z-1]=(collocPts[z]+collocPts[z-1])/2;\n",
    "\t\tend\n",
    "\t\tif(i==nnos[k])\n",
    "\t\t\tcollocPts[z]=(collocPts[z]+collocPts[z-1])/2;\n",
    "\t\tend\n",
    "\n",
    "\t\tCDC[z,:] = [z,tipoCDC,valorCDC];\n",
    "\tend\n",
    "end\n",
    "nnos2=cumsum([0 nnos'],2);\n",
    "\n",
    "E=zeros(length(collocPts),length(collocPts));\n",
    "for i=1:length(collocPts)\n",
    "\tcollocCoord[i,:]=nurbs2D.nrbeval(crv[numcurva[i]], collocPts[i]);\n",
    "\tB, id = nurbs2D.nrbbasisfun(crv[numcurva[i]],collocPts[i])\n",
    "\tE[i,id+nnos2[numcurva[i]]]=B\n",
    "end\n",
    "k=1; # Heat conductivity"
   ]
  },
  {
   "cell_type": "code",
   "execution_count": 12,
   "metadata": {},
   "outputs": [
    {
     "ename": "LoadError",
     "evalue": "\u001b[91mUndefVarError: collocCoord not defined\u001b[39m",
     "output_type": "error",
     "traceback": [
      "\u001b[91mUndefVarError: collocCoord not defined\u001b[39m",
      ""
     ]
    }
   ],
   "source": [
    "#Building the problems matrices\n",
    "H, G = nurbs2D.calcula_iso_POT(collocCoord,nnos2,crv,dcrv,E,k) # Influence matrices\n",
    "A,b= nurbs2D.aplica_CDCiso(G,H,CDC,E);\t# Applying boundary conditions\n",
    "x=A\\b; # Evaluating unknown values\n",
    "Tc,qc=nurbs2D.monta_Teqiso(CDC,x); # Separating temperature from flux\n",
    "# Applying NURBS basis functions to the values of temperature and flux\n",
    "T=E*Tc;\n",
    "q=E*qc;\n",
    "\n",
    "# Domain points\n",
    "PONTOS_int = [1 0.5 0.5]\n",
    "fc = 0; finc = 0;\n",
    "Hp,Gp,phi_pint = nurbs2D.calc_phi_pint_nurbs_POT(PONTOS_int,collocCoord,nnos2,crv,dcrv,k,Tc,qc);"
   ]
  },
  {
   "cell_type": "code",
   "execution_count": 7,
   "metadata": {},
   "outputs": [
    {
     "ename": "LoadError",
     "evalue": "\u001b[91mMethodError: no method matching start(::nurbs2D.Curve)\u001b[0m\nClosest candidates are:\n  start(\u001b[91m::SimpleVector\u001b[39m) at essentials.jl:258\n  start(\u001b[91m::Base.MethodList\u001b[39m) at reflection.jl:560\n  start(\u001b[91m::ExponentialBackOff\u001b[39m) at error.jl:107\n  ...\u001b[39m",
     "output_type": "error",
     "traceback": [
      "\u001b[91mMethodError: no method matching start(::nurbs2D.Curve)\u001b[0m\nClosest candidates are:\n  start(\u001b[91m::SimpleVector\u001b[39m) at essentials.jl:258\n  start(\u001b[91m::Base.MethodList\u001b[39m) at reflection.jl:560\n  start(\u001b[91m::ExponentialBackOff\u001b[39m) at error.jl:107\n  ...\u001b[39m",
      "",
      "Stacktrace:",
      " [1] \u001b[1mmostra_geo\u001b[22m\u001b[22m\u001b[1m(\u001b[22m\u001b[22m::nurbs2D.Curve\u001b[1m)\u001b[22m\u001b[22m at \u001b[1m/home/cafe/BEM_base/src/nurbs2D/formatiso.jl:245\u001b[22m\u001b[22m"
     ]
    }
   ],
   "source": [
    "# Graphics\n",
    "nurbs2D.mostra_geo(crv)\n",
    "nurbs2D.PyPlot.plot(collocCoord[:,1],collocCoord[:,2],marker=\"s\",markersize=10,linestyle=\"none\",color=\"blue\",label = \"Physical points (Nodes)\")\n",
    "nurbs2D.PyPlot.axis(\"equal\")\n",
    "nurbs2D.PyPlot.grid(1)\n",
    "nurbs2D.PyPlot.xlabel(\"x\",fontsize=\"12.0\")\n",
    "nurbs2D.PyPlot.ylabel(\"y\",fontsize=\"12.0\")\n",
    "nurbs2D.PyPlot.title(\"NURBS model\",fontsize=\"16.0\")\n",
    "nurbs2D.PyPlot.legend(fontsize=\"14.0\",loc=\"best\")"
   ]
  },
  {
   "cell_type": "code",
   "execution_count": 8,
   "metadata": {},
   "outputs": [
    {
     "ename": "LoadError",
     "evalue": "\u001b[91mUndefVarError: collocCoord not defined\u001b[39m",
     "output_type": "error",
     "traceback": [
      "\u001b[91mUndefVarError: collocCoord not defined\u001b[39m",
      ""
     ]
    }
   ],
   "source": [
    "const2D.mostra_heatmap(collocCoord[:,1:2],real.(T),ELEM)\n",
    "ncont=size(contorno,1)\n",
    "ncollocpoints=size(collocPts,1)\n",
    "ELEM=zeros(Integer,ncollocpoints,2)\n",
    "noini=1\n",
    "for ii=1:ncont\n",
    "  icont=contorno[ii,1]\n",
    "  ncont=contorno[ii,2]\n",
    "  nofim=nnos2[icont+ncont]\n",
    "  indnos=collect(noini:nofim)\n",
    "  ELEM[noini:nofim,1]=indnos\n",
    "  ELEM[noini:nofim,2]=indnos+1\n",
    "  ELEM[nofim,2]=noini\n",
    "  noini=nofim+1\n",
    "end\n",
    "\n",
    "const2D.mostra_heatmap(collocCoord[:,1:2],PONTOS_int[:,2:3],real.(T),real.(phi_pint),collocCoord[:,1:2],ELEM[:,2:3],qx_dom,qy_dom);"
   ]
  },
  {
   "cell_type": "code",
   "execution_count": 9,
   "metadata": {},
   "outputs": [
    {
     "ename": "LoadError",
     "evalue": "\u001b[91mMethodError: no method matching getindex(::nurbs2D.Curve, ::Int64)\u001b[39m",
     "output_type": "error",
     "traceback": [
      "\u001b[91mMethodError: no method matching getindex(::nurbs2D.Curve, ::Int64)\u001b[39m",
      ""
     ]
    }
   ],
   "source": [
    "crv[1].coefs"
   ]
  },
  {
   "cell_type": "code",
   "execution_count": null,
   "metadata": {},
   "outputs": [],
   "source": []
  },
  {
   "cell_type": "code",
   "execution_count": null,
   "metadata": {},
   "outputs": [],
   "source": []
  },
  {
   "cell_type": "code",
   "execution_count": null,
   "metadata": {},
   "outputs": [],
   "source": []
  }
 ],
 "metadata": {
  "kernelspec": {
   "display_name": "Julia 0.6.4",
   "language": "julia",
   "name": "julia-0.6"
  },
  "language_info": {
   "file_extension": ".jl",
   "mimetype": "application/julia",
   "name": "julia",
   "version": "0.6.4"
  }
 },
 "nbformat": 4,
 "nbformat_minor": 2
}
