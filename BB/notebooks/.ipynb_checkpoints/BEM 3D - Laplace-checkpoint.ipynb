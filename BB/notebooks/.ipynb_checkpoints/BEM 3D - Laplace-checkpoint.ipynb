{
 "cells": [
  {
   "cell_type": "markdown",
   "metadata": {},
   "source": [
    "## Boundary element for potential problems (2D)"
   ]
  },
  {
   "cell_type": "markdown",
   "metadata": {},
   "source": [
    "### Constant elements"
   ]
  },
  {
   "cell_type": "markdown",
   "metadata": {},
   "source": [
    "The Laplace equation, also known as the potential equation, is an elliptic partial differential equation written as\n",
    "\n",
    "\\begin{equation}\n",
    "    \\nabla^2 T = 0\n",
    "\\end{equation}\n",
    "where $\\nabla^2 = \\partial^2 / \\partial x^2 + \\partial^2 / \\partial y^2 + \\partial^2 / \\partial z^2 $ is the Laplace operator and $T$ is an unknown system state, for heat conductivity is the temperature, for potential flows, its the velocity potential.\n",
    "\n",
    "The problem will be solved using the direct boundary element method. The boundary of the problem's domain will be discretized into triangular constant elements with physical nodes located on its centroid. The temperature and its gradient are considered to be constant throughout the element and are only calculated in the physical nodes. The boundary conditions will be applied using the collocation technique. The boundary integral equation which describes the problem is given by\n",
    "\n",
    "\\begin{equation}\n",
    "\\int_{\\Gamma} T(x') \\frac{\\partial T^{\\ast}}{\\partial n}(x,x') d\\Gamma + c (x') T(x') = \\int_{\\Gamma} \\frac{\\partial T}{\\partial n}(x') T^{\\ast}(x,x') d\\Gamma,\n",
    "\\end{equation}\n",
    "where $T$ and $\\frac{\\partial T}{\\partial n}$ are the temperature and its gradient, $n$ is the unit normal vector on the boundary $\\Gamma$ of the problem's domain $\\Omega$, $( \\Gamma = \\partial \\Omega)$. The superscript in $T^{\\ast}$ denotes the fundamental solution of $T$. The fundamental solution corresponds to a source point in an infinite domain when applied to the Laplace equation, where $x'$ is the source point, $x$ is a field point,\n",
    "\n",
    "\n",
    "\\begin{equation}\n",
    "    \\nabla^2 T^{\\ast} = \\delta(x,x').\n",
    "\\end{equation}"
   ]
  },
  {
   "cell_type": "code",
   "execution_count": 19,
   "metadata": {
    "scrolled": false
   },
   "outputs": [
    {
     "data": {
      "text/plain": [
       "216-element Array{Any,1}:\n",
       "   1\n",
       "  55\n",
       "  73\n",
       "  91\n",
       "  37\n",
       "  19\n",
       "   2\n",
       "  56\n",
       "  74\n",
       "  92\n",
       "  38\n",
       "  20\n",
       "   3\n",
       "   ⋮\n",
       " 105\n",
       "  51\n",
       "  33\n",
       " 106\n",
       "  52\n",
       "  34\n",
       " 107\n",
       "  53\n",
       "  35\n",
       " 108\n",
       "  54\n",
       "  36"
      ]
     },
     "execution_count": 19,
     "metadata": {},
     "output_type": "execute_result"
    }
   ],
   "source": [
    "LL = 1;\n",
    "dx = LL/3;\n",
    "dy = LL/3;\n",
    "dz = LL/3;\n",
    "# Coordenada dos nós que definem a geometria (nós geométricos)\n",
    "# NOS = [número do nó, coord. x, coord. y, coord. z];\n",
    "NOS_GEO = [ 1 0.0\t 0.0\t 0.0\n",
    "        2 1*dx\t 0.0\t 0.0\n",
    "        3 2*dx\t 0.0\t 0.0\n",
    "        4 3*dx\t 0.0\t 0.0\n",
    "        5 0.0\t 1*dy\t 0.0\n",
    "        6 1*dx\t 1*dy\t 0.0\n",
    "        7 2*dx\t 1*dy\t 0.0\n",
    "        8 3*dx\t 1*dy\t 0.0\n",
    "        9 0.0\t 2*dy\t 0.0\n",
    "       10 1*dx\t 2*dy\t 0.0\n",
    "       11 2*dx\t 2*dy\t 0.0\n",
    "       12 3*dx\t 2*dy\t 0.0\n",
    "       13 0.0\t 3*dy\t 0.0\n",
    "       14 1*dx\t 3*dy\t 0.0\n",
    "       15 2*dx\t 3*dy\t 0.0\n",
    "       16 3*dx\t 3*dy\t 0.0\n",
    "\n",
    "       17 0.0\t 0.0\t 1*dz\n",
    "       18 1*dx\t 0.0\t 1*dz\n",
    "       19 2*dx\t 0.0\t 1*dz\n",
    "       20 3*dx\t 0.0\t 1*dz\n",
    "       21 0.0\t 1*dy\t 1*dz\n",
    "       22 3*dx\t 1*dy\t 1*dz\n",
    "       23 0.0\t 2*dy\t 1*dz\n",
    "       24 3*dx\t 2*dy\t 1*dz\n",
    "       25 0.0\t 3*dy\t 1*dz\n",
    "       26 1*dx\t 3*dy\t 1*dz\n",
    "       27 2*dx\t 3*dy\t 1*dz\n",
    "       28 3*dx\t 3*dy\t 1*dz\n",
    "\n",
    "       29 0.0\t 0.0\t 2*dz\n",
    "       30 1*dx\t 0.0\t 2*dz\n",
    "       31 2*dx\t 0.0\t 2*dz\n",
    "       32 3*dx\t 0.0\t 2*dz\n",
    "       33 0.0\t 1*dy\t 2*dz\n",
    "       34 3*dx\t 1*dy\t 2*dz\n",
    "       35 0.0\t 2*dy\t 2*dz\n",
    "       36 3*dx\t 2*dy\t 2*dz\n",
    "       37 0.0\t 3*dy\t 2*dz\n",
    "       38 1*dx\t 3*dy\t 2*dz\n",
    "       39 2*dx\t 3*dy\t 2*dz\n",
    "       40 3*dx\t 3*dy\t 2*dz\n",
    "\n",
    "       41 0.0\t 0.0\t 3*dz\n",
    "       42 1*dx\t 0.0\t 3*dz\n",
    "       43 2*dx\t 0.0\t 3*dz\n",
    "       44 3*dx\t 0.0\t 3*dz\n",
    "       45 0.0\t 1*dy\t 3*dz\n",
    "       46 1*dx\t 1*dy\t 3*dz\n",
    "       47 2*dx\t 1*dy\t 3*dz\n",
    "       48 3*dx\t 1*dy\t 3*dz\n",
    "       49 0.0\t 2*dy\t 3*dz\n",
    "       50 1*dx\t 2*dy\t 3*dz\n",
    "       51 2*dx\t 2*dy\t 3*dz\n",
    "       52 3*dx\t 2*dy\t 3*dz\n",
    "       53 0.0\t 3*dy\t 3*dz\n",
    "       54 1*dx\t 3*dy\t 3*dz\n",
    "       55 2*dx\t 3*dy\t 3*dz\n",
    "       56 3*dx\t 3*dy\t 3*dz];\n",
    "\n",
    "# Matriz de conectividade (nós que definem os elementos)\n",
    "# ELEM = [número do elemento, no1, no2, no3, face]\n",
    "ELEM = [ 1     5     6     1     1\n",
    "         2     1     6     2     1\n",
    "         3     2     6     7     1\n",
    "         4     2     7     3     1\n",
    "         5     3     7     8     1\n",
    "         6     3     8     4     1\n",
    "         7     5     9    10     1\n",
    "         8     5    10     6     1\n",
    "         9     6    10    11     1\n",
    "        10     6    11     7     1\n",
    "        11     7    11    12     1\n",
    "        12     7    12     8     1\n",
    "        13     9    13    14     1\n",
    "        14     9    14    10     1\n",
    "        15    10    14    15     1\n",
    "        16    10    15    11     1\n",
    "        17    11    15    16     1\n",
    "        18    11    16    12     1\n",
    "\n",
    "        19    42    46    41     6\n",
    "        20    41    46    45     6\n",
    "        21    42    43    47     6\n",
    "        22    42    47    46     6\n",
    "        23    43    44    48     6\n",
    "        24    43    48    47     6\n",
    "        25    45    46    50     6\n",
    "        26    45    50    49     6\n",
    "        27    46    47    51     6\n",
    "        28    46    51    50     6\n",
    "        29    47    48    52     6\n",
    "        30    47    52    51     6\n",
    "        31    49    50    54     6\n",
    "        32    49    54    53     6\n",
    "        33    50    51    55     6\n",
    "        34    50    55    54     6\n",
    "        35    51    52    56     6\n",
    "        36    51    56    55     6\n",
    "\n",
    "        37     1    17    21     5\n",
    "        38     1    21     5     5\n",
    "        39     5    21    23     5\n",
    "        40     5    23     9     5\n",
    "        41     9    23    25     5\n",
    "        42     9    25    13     5\n",
    "        43    17    29    33     5\n",
    "        44    17    33    21     5\n",
    "        45    21    33    35     5\n",
    "        46    21    35    23     5\n",
    "        47    23    35    37     5\n",
    "        48    23    37    25     5\n",
    "        49    29    41    45     5\n",
    "        50    29    45    33     5\n",
    "        51    33    45    49     5\n",
    "        52    33    49    35     5\n",
    "        53    35    49    53     5\n",
    "        54    35    53    37     5\n",
    "\n",
    "        55     1     2    18     2\n",
    "        56     1    18    17     2\n",
    "        57     2     3    19     2\n",
    "        58     2    19    18     2\n",
    "        59     3     4    20     2\n",
    "        60     3    20    19     2\n",
    "        61    17    18    30     2\n",
    "        62    17    30    29     2\n",
    "        63    18    19    31     2\n",
    "        64    18    31    30     2\n",
    "        65    19    20    32     2\n",
    "        66    19    32    31     2\n",
    "        67    29    30    42     2\n",
    "        68    29    42    41     2\n",
    "        69    30    31    43     2\n",
    "        70    30    43    42     2\n",
    "        71    31    32    44     2\n",
    "        72    31    44    43     2\n",
    "\n",
    "        73     4     8    22     3\n",
    "        74     4    22    20     3\n",
    "        75     8    12    24     3\n",
    "        76     8    24    22     3\n",
    "        77    12    16    28     3\n",
    "        78    12    28    24     3\n",
    "        79    20    22    34     3\n",
    "        80    20    34    32     3\n",
    "        81    22    24    36     3\n",
    "        82    22    36    34     3\n",
    "        83    24    28    40     3\n",
    "        84    24    40    36     3\n",
    "        85    32    34    48     3\n",
    "        86    32    48    44     3\n",
    "        87    34    36    52     3\n",
    "        88    34    52    48     3\n",
    "        89    36    40    56     3\n",
    "        90    36    56    52     3\n",
    "\n",
    "        91    13    25    26     4\n",
    "        92    13    26    14     4\n",
    "        93    14    26    27     4\n",
    "        94    14    27    15     4\n",
    "        95    15    27    28     4\n",
    "        96    15    28    16     4\n",
    "        97    25    37    38     4\n",
    "        98    25    38    26     4\n",
    "        99    26    38    39     4\n",
    "       100    26    39    27     4\n",
    "       101    27    39    40     4\n",
    "       102    27    40    28     4\n",
    "       103    37    53    54     4\n",
    "       104    37    54    38     4\n",
    "       105    38    54    55     4\n",
    "       106    38    55    39     4\n",
    "       107    39    55    56     4\n",
    "       108    39    56    40     4];\n",
    "\n",
    "# Matriz de condições de contorno das faces\n",
    "# CCFace = [número da face, tipo da CDC, valor da CDC]\n",
    "# tipo da CDC = 0 => a temperatura é conhecida\n",
    "# tipo da CDC = 1 => o fluxo é conhecido\n",
    "CCFace = [1 0 0 \n",
    "          2 1 0\n",
    "          3 1 0\n",
    "          4 1 0\n",
    "          5 1 0\n",
    "          6 0 0.5];\n",
    "\n",
    "NOS = const3D_tri.mostra_geoTRI(NOS_GEO,ELEM); #Generate the physical nodes for constant elements\n",
    "\n",
    "b3 = [ELEM[i,1] for i in ELEM[:,1] if ELEM[i,5]==1]            \n",
    "b4 = [ELEM[i,1] for i in ELEM[:,1] if ELEM[i,5]==2]\n",
    "b5 = [ELEM[i,1] for i in ELEM[:,1] if ELEM[i,5]==3]                                 \n",
    "b6 = [ELEM[i,1] for i in ELEM[:,1] if ELEM[i,5]==4]\n",
    "b7 = [ELEM[i,1] for i in ELEM[:,1] if ELEM[i,5]==5]\n",
    "b8 = [ELEM[i,1] for i in ELEM[:,1] if ELEM[i,5]==6]\n",
    "\n",
    "Tree = []\n",
    "Tree = append!(Tree,[b3 b4 b5 b6 b7 b8])\n",
    "Tree = append!(Tree,[b3 b4 b5])\n",
    "Tree = append!(Tree,[b6 b7 b8])                               "
   ]
  },
  {
   "cell_type": "code",
   "execution_count": 6,
   "metadata": {},
   "outputs": [
    {
     "data": {
      "text/plain": [
       "4×3 Array{Int64,2}:\n",
       " 2  3  0\n",
       " 3  2  0\n",
       " 2  2  0\n",
       " 3  3  0"
      ]
     },
     "execution_count": 6,
     "metadata": {},
     "output_type": "execute_result"
    }
   ],
   "source": [
    "block = [2 3 0; 3 2 0; 2 2 0; 3 3 0]"
   ]
  },
  {
   "cell_type": "code",
   "execution_count": null,
   "metadata": {},
   "outputs": [],
   "source": [
    "block"
   ]
  },
  {
   "cell_type": "code",
   "execution_count": 1,
   "metadata": {
    "scrolled": false
   },
   "outputs": [
    {
     "data": {
      "text/plain": [
       "BEM_base (generic function with 5 methods)"
      ]
     },
     "execution_count": 1,
     "metadata": {},
     "output_type": "execute_result"
    }
   ],
   "source": [
    "include(\"../BEM_base.jl\")"
   ]
  },
  {
   "cell_type": "code",
   "execution_count": 10,
   "metadata": {
    "scrolled": true
   },
   "outputs": [
    {
     "name": "stdout",
     "output_type": "stream",
     "text": [
      "gmres iterated maxIter (=1000) times without achieving the desired tolerance.\n"
     ]
    },
    {
     "ename": "LoadError",
     "evalue": "\u001b[91mUndefVarError: A1 not defined\u001b[39m",
     "output_type": "error",
     "traceback": [
      "\u001b[91mUndefVarError: A1 not defined\u001b[39m",
      "",
      "Stacktrace:",
      " [1] \u001b[1minclude_string\u001b[22m\u001b[22m\u001b[1m(\u001b[22m\u001b[22m::String, ::String\u001b[1m)\u001b[22m\u001b[22m at \u001b[1m./loading.jl:522\u001b[22m\u001b[22m",
      " [2] \u001b[1mexecute_request\u001b[22m\u001b[22m\u001b[1m(\u001b[22m\u001b[22m::ZMQ.Socket, ::IJulia.Msg\u001b[1m)\u001b[22m\u001b[22m at \u001b[1m/home/cafe/.julia/v0.6/IJulia/src/execute_request.jl:193\u001b[22m\u001b[22m",
      " [3] \u001b[1m(::Compat.#inner#6{Array{Any,1},IJulia.#execute_request,Tuple{ZMQ.Socket,IJulia.Msg}})\u001b[22m\u001b[22m\u001b[1m(\u001b[22m\u001b[22m\u001b[1m)\u001b[22m\u001b[22m at \u001b[1m/home/cafe/.julia/v0.6/Compat/src/Compat.jl:189\u001b[22m\u001b[22m",
      " [4] \u001b[1meventloop\u001b[22m\u001b[22m\u001b[1m(\u001b[22m\u001b[22m::ZMQ.Socket\u001b[1m)\u001b[22m\u001b[22m at \u001b[1m/home/cafe/.julia/v0.6/IJulia/src/eventloop.jl:8\u001b[22m\u001b[22m",
      " [5] \u001b[1m(::IJulia.##13#16)\u001b[22m\u001b[22m\u001b[1m(\u001b[22m\u001b[22m\u001b[1m)\u001b[22m\u001b[22m at \u001b[1m./task.jl:335\u001b[22m\u001b[22m"
     ]
    }
   ],
   "source": [
    "Tree,block = const3D_tri.cluster(NOS[:,2:4],floor(sqrt(length(NOS))),2);\n",
    "k = 1\n",
    "npg=6\n",
    "PONTOS_dom = [1 LL/2 LL/2 LL/2]\n",
    "qsi,w = const3D_tri.Gauss_Legendre(-1,1,npg) # Generation of the points and weights\n",
    "qsi_tri,w_tri = const3D_tri.Gauss_Legendre(0,1,npg) # Generation of the points and weights\n",
    "CDC = const3D_tri.gera_CDC(ELEM,CCFace); #Monta a matriz de condicoes de contorno\n",
    "arg = [NOS, NOS_GEO, ELEM, k, CDC,qsi,w,qsi_tri,w_tri];\n",
    "A,b = const3D_tri.Hinterp_POT(Tree,block,arg)\n",
    "x = const3D_tri.gmres(vet->const3D_tri.matvec(A,vet,block,Tree),b,5,tol=1e-5,maxIter=1000,out=0) \n",
    "T,q = const3D_tri.monta_Teq_POT(CDC, x[1])\n",
    "b1 = collect(1:size(NOS,1))\n",
    "b2 = collect(1:size(ELEM,1))\n",
    "Ab,bb = const3D_tri.cal_Aeb(b1,b2, arg)\n",
    "x1 = bb\\Ab\n",
    "T1,q1 = const3D_tri.monta_Teq_POT(CDC, x1)"
   ]
  },
  {
   "cell_type": "code",
   "execution_count": 12,
   "metadata": {},
   "outputs": [
    {
     "data": {
      "text/plain": [
       "15-element Array{Any,1}:\n",
       " [1, 2, 3, 4, 5, 6, 7, 8, 9, 10  …  99, 100, 101, 102, 103, 104, 105, 106, 107, 108]     \n",
       " [2, 3, 4, 5, 6, 10, 11, 12, 18, 19  …  81, 82, 83, 84, 85, 86, 87, 88, 89, 90]          \n",
       " [1, 7, 8, 9, 13, 14, 15, 16, 17, 20  …  99, 100, 101, 102, 103, 104, 105, 106, 107, 108]\n",
       " [19, 21, 22, 23, 24, 27, 29, 30, 35, 55  …  66, 67, 68, 69, 70, 71, 72, 85, 86, 88]     \n",
       " [2, 3, 4, 5, 6, 10, 11, 12, 18, 57  …  78, 79, 80, 81, 82, 83, 84, 87, 89, 90]          \n",
       " [20, 25, 26, 28, 31, 32, 33, 34, 36, 37  …  48, 49, 50, 51, 52, 53, 54, 103, 104, 105]  \n",
       " [1, 7, 8, 9, 13, 14, 15, 16, 17, 40  …  96, 97, 98, 99, 100, 101, 102, 106, 107, 108]   \n",
       " [19, 55, 56, 58, 61, 62, 63, 64, 65, 66, 67, 68, 69, 70]                                \n",
       " [21, 22, 23, 24, 27, 29, 30, 35, 71, 72, 85, 86, 88]                                    \n",
       " [2, 3, 4, 5, 6, 10, 11, 12, 57, 59, 60, 73, 74]                                         \n",
       " [18, 75, 76, 77, 78, 79, 80, 81, 82, 83, 84, 87, 89, 90]                                \n",
       " [20, 37, 38, 39, 43, 44, 45, 46, 47, 48, 49, 50, 51, 52]                                \n",
       " [25, 26, 28, 31, 32, 33, 34, 36, 53, 54, 103, 104, 105]                                 \n",
       " [1, 7, 8, 9, 13, 14, 15, 16, 40, 41, 42, 91, 92]                                        \n",
       " [17, 93, 94, 95, 96, 97, 98, 99, 100, 101, 102, 106, 107, 108]                          "
      ]
     },
     "execution_count": 12,
     "metadata": {},
     "output_type": "execute_result"
    }
   ],
   "source": [
    "Tree"
   ]
  },
  {
   "cell_type": "code",
   "execution_count": null,
   "metadata": {},
   "outputs": [],
   "source": []
  }
 ],
 "metadata": {
  "kernelspec": {
   "display_name": "Julia 0.6.4",
   "language": "julia",
   "name": "julia-0.6"
  },
  "language_info": {
   "file_extension": ".jl",
   "mimetype": "application/julia",
   "name": "julia",
   "version": "0.6.4"
  }
 },
 "nbformat": 4,
 "nbformat_minor": 2
}
